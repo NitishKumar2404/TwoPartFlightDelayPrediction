{
 "cells": [
  {
   "cell_type": "markdown",
   "metadata": {},
   "source": [
    "# Classifier & Regressor\n",
    "\n",
    "\n",
    "\n",
    "## Module 2\n",
    "\n",
    "### Importing Modules"
   ]
  },
  {
   "cell_type": "code",
   "execution_count": 1,
   "metadata": {},
   "outputs": [],
   "source": [
    "import pandas as pd\n",
    "import numpy as np\n",
    "from xgboost import XGBClassifier\n",
    "from xgboost import XGBRegressor\n",
    "import sklearn.metrics as skmu\n",
    "import math"
   ]
  },
  {
   "cell_type": "markdown",
   "metadata": {},
   "source": [
    "### Dataframes "
   ]
  },
  {
   "cell_type": "code",
   "execution_count": 8,
   "metadata": {},
   "outputs": [],
   "source": [
    "train = pd.read_csv(\"Data/TrainingData.csv\", encoding = \"utf-8\")\n",
    "train.dropna(inplace = True)\n",
    "test = pd.read_csv(\"Data/TestData.csv\", encoding = \"utf-8\")\n",
    "test.dropna(inplace = True)\n",
    "train_X = train[[ 'Quarter' ,'Year' ,'Month' , 'DayofMonth','OriginID','CRSDepTime', 'DestID','CRSArrTime', 'windspeedKmph', 'winddirDegree', 'precipMM', 'visibility', 'pressure', 'cloudcover', 'DewPointF', 'WindGustKmph', 'humidity']].to_numpy()\n",
    "test_X = test[[ 'Quarter' ,'Year' ,'Month' , 'DayofMonth','OriginID','CRSDepTime', 'DestID','CRSArrTime', 'windspeedKmph', 'winddirDegree', 'precipMM', 'visibility', 'pressure', 'cloudcover', 'DewPointF', 'WindGustKmph', 'humidity']].to_numpy()"
   ]
  },
  {
   "cell_type": "code",
   "execution_count": 7,
   "metadata": {},
   "outputs": [],
   "source": [
    "cltrain_Y = train[['Classifier']].to_numpy()\n",
    "clactual_Y = test[['Classifier']].to_numpy()"
   ]
  },
  {
   "cell_type": "code",
   "execution_count": 4,
   "metadata": {},
   "outputs": [],
   "source": [
    "regtrain_Y = train[['ArrDelayMinutes']].to_numpy()\n",
    "regactual_Y = test[['ArrDelayMinutes']].to_numpy()"
   ]
  },
  {
   "cell_type": "markdown",
   "metadata": {},
   "source": [
    "### Classifier"
   ]
  },
  {
   "cell_type": "code",
   "execution_count": 9,
   "metadata": {},
   "outputs": [],
   "source": [
    "classifiermodel = XGBClassifier(n_estimators=200, tree_method='gpu_hist', predictor='gpu_predictor')\n",
    "classifiermodel.fit(train_X, cltrain_Y)\n",
    "clpred_Y = classifiermodel.predict(test_X)"
   ]
  },
  {
   "cell_type": "markdown",
   "metadata": {},
   "source": [
    "### Regressor"
   ]
  },
  {
   "cell_type": "code",
   "execution_count": 10,
   "metadata": {},
   "outputs": [],
   "source": [
    "regmodel = XGBRegressor(n_estimators=200, tree_method='gpu_hist', predictor='gpu_predictor')\n",
    "regmodel.fit(train_X,regtrain_Y)\n",
    "regpred_Y = regmodel.predict(test_X)"
   ]
  },
  {
   "cell_type": "markdown",
   "metadata": {},
   "source": [
    "### Metrics"
   ]
  },
  {
   "cell_type": "code",
   "execution_count": 11,
   "metadata": {},
   "outputs": [
    {
     "name": "stdout",
     "output_type": "stream",
     "text": [
      "The Evaluation of the Regressor Model yields: \n",
      "RMSE:  39.896492740471636\n",
      "\n",
      "The Evaluation of the Classifier Model yields: \n",
      "Accuracy:  0.7081973159231049\n"
     ]
    }
   ],
   "source": [
    "acc = skmu.accuracy_score(clactual_Y, clpred_Y)\n",
    "mse = skmu.mean_squared_error(regactual_Y,regpred_Y)\n",
    "mse = math.sqrt(mse)\n",
    "print(\"The Evaluation of the Regressor Model yields: \\nRMSE: \", mse)\n",
    "print(\"\\nThe Evaluation of the Classifier Model yields: \\nAccuracy: \", acc)"
   ]
  }
 ],
 "metadata": {
  "kernelspec": {
   "display_name": "Python 3",
   "language": "python",
   "name": "python3"
  },
  "language_info": {
   "codemirror_mode": {
    "name": "ipython",
    "version": 3
   },
   "file_extension": ".py",
   "mimetype": "text/x-python",
   "name": "python",
   "nbconvert_exporter": "python",
   "pygments_lexer": "ipython3",
   "version": "3.7.6"
  }
 },
 "nbformat": 4,
 "nbformat_minor": 4
}

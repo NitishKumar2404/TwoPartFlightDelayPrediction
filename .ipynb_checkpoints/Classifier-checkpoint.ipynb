{
 "cells": [
  {
   "cell_type": "markdown",
   "metadata": {},
   "source": [
    "# Classifier & Regressor\n",
    "\n",
    "\n",
    "\n",
    "## Module 2\n",
    "\n",
    "### Importing Modules"
   ]
  },
  {
   "cell_type": "code",
   "execution_count": 1,
   "metadata": {},
   "outputs": [],
   "source": [
    "import pandas as pd\n",
    "import numpy as np\n",
    "import sklearn.metrics as skmu\n",
    "from math import sqrt\n",
    "from xgboost import XGBClassifier\n",
    "from sklearn.linear_model import LogisticRegression\n",
    "from sklearn.ensemble import ExtraTreesClassifier\n",
    "from sklearn.ensemble import AdaBoostClassifier\n",
    "import matplotlib.pyplot as plt"
   ]
  },
  {
   "cell_type": "markdown",
   "metadata": {},
   "source": [
    "### Dataframes "
   ]
  },
  {
   "cell_type": "code",
   "execution_count": 2,
   "metadata": {},
   "outputs": [],
   "source": [
    "train = pd.read_csv(\"Data/TrainingData.csv\", encoding = \"utf-8\")\n",
    "test = pd.read_csv(\"Data/TestData.csv\", encoding = \"utf-8\")\n",
    "train_X = train[[ 'Quarter' ,'Year' ,'Month' , 'DayofMonth','OriginAirportID','CRSDepTime', 'DepDelayMinutes', 'DestAirportID','CRSArrTime', 'windspeedKmph_x','winddirDegree_x','precipMM_x','visibility_x','pressure_x','cloudcover_x','DewPointF_x','WindGustKmph_x','humidity_x','windspeedKmph_y','winddirDegree_y','precipMM_y','visibility_y','pressure_y','cloudcover_y','DewPointF_y','WindGustKmph_y','humidity_y']].to_numpy()\n",
    "test_X = test[[ 'Quarter' ,'Year' ,'Month' , 'DayofMonth','OriginAirportID','CRSDepTime', 'DepDelayMinutes', 'DestAirportID','CRSArrTime', 'windspeedKmph_x','winddirDegree_x','precipMM_x','visibility_x','pressure_x','cloudcover_x','DewPointF_x','WindGustKmph_x','humidity_x','windspeedKmph_y','winddirDegree_y','precipMM_y','visibility_y','pressure_y','cloudcover_y','DewPointF_y','WindGustKmph_y','humidity_y']].to_numpy()"
   ]
  },
  {
   "cell_type": "code",
   "execution_count": 3,
   "metadata": {},
   "outputs": [],
   "source": [
    "cltrain_Y = train[['ArrDel15']].values.ravel()\n",
    "clactual_Y = test[['ArrDel15']].values.ravel()"
   ]
  },
  {
   "cell_type": "markdown",
   "metadata": {},
   "source": [
    "### Classifier"
   ]
  },
  {
   "cell_type": "code",
   "execution_count": 4,
   "metadata": {},
   "outputs": [],
   "source": [
    "classifierxgb = XGBClassifier(n_estimators=200, tree_method='gpu_hist', predictor='gpu_predictor')\n",
    "classifierxgb.fit(train_X, cltrain_Y)\n",
    "clpred_Yxgb = classifierxgb.predict(test_X)"
   ]
  },
  {
   "cell_type": "code",
   "execution_count": 5,
   "metadata": {},
   "outputs": [
    {
     "name": "stdout",
     "output_type": "stream",
     "text": [
      "              precision    recall  f1-score   support\n",
      "\n",
      "         0.0       0.93      0.98      0.95     40606\n",
      "         1.0       0.90      0.70      0.79     10815\n",
      "\n",
      "    accuracy                           0.92     51421\n",
      "   macro avg       0.91      0.84      0.87     51421\n",
      "weighted avg       0.92      0.92      0.92     51421\n",
      "\n"
     ]
    }
   ],
   "source": [
    "print(skmu.classification_report(clactual_Y, clpred_Yxgb))"
   ]
  },
  {
   "cell_type": "code",
   "execution_count": 6,
   "metadata": {},
   "outputs": [
    {
     "data": {
      "image/png": "[encoded data removed]",
      "text/plain": [
       "<Figure size 432x288 with 1 Axes>"
      ]
     },
     "metadata": {
      "needs_background": "light"
     },
     "output_type": "display_data"
    }
   ],
   "source": [
    "fpr, tpr, _ = skmu.roc_curve(clactual_Y, clpred_Yxgb)\n",
    "auc = skmu.roc_auc_score(clactual_Y, clpred_Yxgb)\n",
    "plt.plot(fpr,tpr,label=\"data 1, auc=\"+str(auc))\n",
    "plt.legend(loc=4)\n",
    "plt.show()"
   ]
  },
  {
   "cell_type": "code",
   "execution_count": 7,
   "metadata": {},
   "outputs": [],
   "source": [
    "classifierlog = LogisticRegression(random_state = 0, solver='lbfgs', max_iter=3000)\n",
    "classifierlog.fit(train_X, cltrain_Y)\n",
    "clpred_Ylog = classifierlog.predict(test_X)"
   ]
  },
  {
   "cell_type": "code",
   "execution_count": 8,
   "metadata": {},
   "outputs": [
    {
     "name": "stdout",
     "output_type": "stream",
     "text": [
      "              precision    recall  f1-score   support\n",
      "\n",
      "         0.0       0.92      0.98      0.95     40606\n",
      "         1.0       0.89      0.69      0.78     10815\n",
      "\n",
      "    accuracy                           0.92     51421\n",
      "   macro avg       0.91      0.83      0.86     51421\n",
      "weighted avg       0.91      0.92      0.91     51421\n",
      "\n"
     ]
    }
   ],
   "source": [
    "print(skmu.classification_report(clactual_Y, clpred_Ylog))"
   ]
  },
  {
   "cell_type": "code",
   "execution_count": 9,
   "metadata": {},
   "outputs": [
    {
     "data": {
      "image/png": "[encoded data removed]",
      "text/plain": [
       "<Figure size 432x288 with 1 Axes>"
      ]
     },
     "metadata": {
      "needs_background": "light"
     },
     "output_type": "display_data"
    }
   ],
   "source": [
    "fpr, tpr, _ = skmu.roc_curve(clactual_Y, clpred_Ylog)\n",
    "auc = skmu.roc_auc_score(clactual_Y, clpred_Ylog)\n",
    "plt.plot(fpr,tpr,label=\"data 1, auc=\"+str(auc))\n",
    "plt.legend(loc=4)\n",
    "plt.show()"
   ]
  },
  {
   "cell_type": "code",
   "execution_count": 10,
   "metadata": {},
   "outputs": [],
   "source": [
    "classifiertrees = ExtraTreesClassifier(n_estimators = 50, random_state = 0)\n",
    "classifiertrees.fit(train_X, cltrain_Y)\n",
    "clpred_Ytree = classifiertrees.predict(test_X)"
   ]
  },
  {
   "cell_type": "code",
   "execution_count": 11,
   "metadata": {},
   "outputs": [
    {
     "name": "stdout",
     "output_type": "stream",
     "text": [
      "              precision    recall  f1-score   support\n",
      "\n",
      "         0.0       0.92      0.97      0.94     40606\n",
      "         1.0       0.86      0.67      0.76     10815\n",
      "\n",
      "    accuracy                           0.91     51421\n",
      "   macro avg       0.89      0.82      0.85     51421\n",
      "weighted avg       0.91      0.91      0.91     51421\n",
      "\n"
     ]
    }
   ],
   "source": [
    "print(skmu.classification_report(clactual_Y, clpred_Ytree))"
   ]
  },
  {
   "cell_type": "code",
   "execution_count": 12,
   "metadata": {},
   "outputs": [
    {
     "data": {
      "image/png": "[encoded data removed]",
      "text/plain": [
       "<Figure size 432x288 with 1 Axes>"
      ]
     },
     "metadata": {
      "needs_background": "light"
     },
     "output_type": "display_data"
    }
   ],
   "source": [
    "fpr, tpr, _ = skmu.roc_curve(clactual_Y, clpred_Ytree)\n",
    "auc = skmu.roc_auc_score(clactual_Y, clpred_Ytree)\n",
    "plt.plot(fpr,tpr,label=\"data 1, auc=\"+str(auc))\n",
    "plt.legend(loc=4)\n",
    "plt.show()"
   ]
  },
  {
   "cell_type": "code",
   "execution_count": 15,
   "metadata": {},
   "outputs": [],
   "source": [
    "classifierada = AdaBoostClassifier(n_estimators=70)\n",
    "classifierada.fit(train_X, cltrain_Y)\n",
    "clpred_Yada = classifierada.predict(test_X)"
   ]
  },
  {
   "cell_type": "code",
   "execution_count": 16,
   "metadata": {},
   "outputs": [
    {
     "name": "stdout",
     "output_type": "stream",
     "text": [
      "              precision    recall  f1-score   support\n",
      "\n",
      "         0.0       0.92      0.98      0.95     40606\n",
      "         1.0       0.89      0.69      0.78     10815\n",
      "\n",
      "    accuracy                           0.92     51421\n",
      "   macro avg       0.91      0.83      0.86     51421\n",
      "weighted avg       0.92      0.92      0.91     51421\n",
      "\n"
     ]
    }
   ],
   "source": [
    "print(skmu.classification_report(clactual_Y, clpred_Yada))"
   ]
  },
  {
   "cell_type": "code",
   "execution_count": 17,
   "metadata": {},
   "outputs": [
    {
     "data": {
      "image/png": "[encoded data removed]",
      "text/plain": [
       "<Figure size 432x288 with 1 Axes>"
      ]
     },
     "metadata": {
      "needs_background": "light"
     },
     "output_type": "display_data"
    }
   ],
   "source": [
    "fpr, tpr, _ = skmu.roc_curve(clactual_Y, clpred_Yada)\n",
    "auc = skmu.roc_auc_score(clactual_Y, clpred_Yada)\n",
    "plt.plot(fpr,tpr,label=\"data 1, auc=\"+str(auc))\n",
    "plt.legend(loc=4)\n",
    "plt.show()"
   ]
  },
  {
   "cell_type": "markdown",
   "metadata": {},
   "source": [
    "### Classifier Metrics"
   ]
  },
  {
   "cell_type": "code",
   "execution_count": null,
   "metadata": {},
   "outputs": [],
   "source": [
    "\"\"\"\n",
    "ROC-AUC Curve metric analysis shows that the extra trees classifier provides the best prediction of the test \n",
    "dataset provided.\n",
    "Greater the AUC value Greater will be the ability of the model to predict the 0s as 0s and 1s as 1s.\n",
    "AUC of XG Boost is greatest\n",
    "The Classification result supports the claim\n",
    "\"\"\""
   ]
  },
  {
   "cell_type": "markdown",
   "metadata": {},
   "source": [
    "### Storing Classified Flights"
   ]
  },
  {
   "cell_type": "code",
   "execution_count": 18,
   "metadata": {},
   "outputs": [],
   "source": [
    "test.loc[:,'ArrDel15'] = clpred_Yxgb\n",
    "test = test[(test.ArrDel15 == 1)]\n",
    "test.to_csv(\"Data/ClassifiedFlights.csv\", index = False, encoding = 'utf-8')"
   ]
  }
 ],
 "metadata": {
  "kernelspec": {
   "display_name": "Python 3",
   "language": "python",
   "name": "python3"
  },
  "language_info": {
   "codemirror_mode": {
    "name": "ipython",
    "version": 3
   },
   "file_extension": ".py",
   "mimetype": "text/x-python",
   "name": "python",
   "nbconvert_exporter": "python",
   "pygments_lexer": "ipython3",
   "version": "3.7.6"
  }
 },
 "nbformat": 4,
 "nbformat_minor": 4
}

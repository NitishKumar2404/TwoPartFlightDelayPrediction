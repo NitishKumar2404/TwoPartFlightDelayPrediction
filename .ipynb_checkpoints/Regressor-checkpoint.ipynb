{
 "cells": [
  {
   "cell_type": "markdown",
   "metadata": {},
   "source": [
    "# Regression"
   ]
  },
  {
   "cell_type": "markdown",
   "metadata": {},
   "source": [
    "## Module 3"
   ]
  },
  {
   "cell_type": "markdown",
   "metadata": {},
   "source": [
    "### Importing Modules"
   ]
  },
  {
   "cell_type": "code",
   "execution_count": 1,
   "metadata": {},
   "outputs": [],
   "source": [
    "import pandas as pd\n",
    "import numpy as np\n",
    "import sklearn.metrics as skmu\n",
    "from math import sqrt\n",
    "from xgboost import XGBRegressor\n",
    "from sklearn.linear_model import LinearRegression\n",
    "from sklearn.tree import DecisionTreeRegressor\n",
    "from sklearn.ensemble import AdaBoostRegressor"
   ]
  },
  {
   "cell_type": "markdown",
   "metadata": {},
   "source": [
    "### Dataframes"
   ]
  },
  {
   "cell_type": "code",
   "execution_count": 2,
   "metadata": {},
   "outputs": [],
   "source": [
    "train = pd.read_csv(\"Data/TrainingData.csv\", encoding = \"utf-8\")\n",
    "test = pd.read_csv(\"Data/ClassifiedFlights.csv\", encoding = \"utf-8\")\n",
    "train_X = train[(train.ArrDel15 == 1)]\n",
    "train_X = train[[ 'Quarter' ,'Year' ,'Month' , 'DayofMonth','OriginAirportID','CRSDepTime', 'DestAirportID', 'DepDelayMinutes','CRSArrTime', 'windspeedKmph_x','winddirDegree_x','precipMM_x','visibility_x','pressure_x','cloudcover_x','DewPointF_x','WindGustKmph_x','humidity_x','windspeedKmph_y','winddirDegree_y','precipMM_y','visibility_y','pressure_y','cloudcover_y','DewPointF_y','WindGustKmph_y','humidity_y']].to_numpy()\n",
    "test_X = test[[ 'Quarter' ,'Year' ,'Month' , 'DayofMonth','OriginAirportID','CRSDepTime', 'DestAirportID', 'DepDelayMinutes','CRSArrTime', 'windspeedKmph_x','winddirDegree_x','precipMM_x','visibility_x','pressure_x','cloudcover_x','DewPointF_x','WindGustKmph_x','humidity_x','windspeedKmph_y','winddirDegree_y','precipMM_y','visibility_y','pressure_y','cloudcover_y','DewPointF_y','WindGustKmph_y','humidity_y']].to_numpy()"
   ]
  },
  {
   "cell_type": "code",
   "execution_count": 3,
   "metadata": {},
   "outputs": [],
   "source": [
    "regtrain_Y = train[['ArrDelayMinutes']].values.ravel()\n",
    "regactual_Y = test[['ArrDelayMinutes']].values.ravel()"
   ]
  },
  {
   "cell_type": "markdown",
   "metadata": {},
   "source": [
    "### Pipeline Regression"
   ]
  },
  {
   "cell_type": "code",
   "execution_count": 4,
   "metadata": {},
   "outputs": [],
   "source": [
    "regxgb = XGBRegressor(n_estimators=200, tree_method='gpu_hist', predictor='gpu_predictor')\n",
    "regxgb.fit(train_X,regtrain_Y)\n",
    "regpred_Yxgb = regxgb.predict(test_X)"
   ]
  },
  {
   "cell_type": "code",
   "execution_count": 5,
   "metadata": {},
   "outputs": [
    {
     "name": "stdout",
     "output_type": "stream",
     "text": [
      "XGBoost Regressor Metrics: \n",
      " RMSE:  31.789288422506043 \n",
      " MAE:  14.954194929839565 \n",
      " R2:  0.8409080392897866\n"
     ]
    }
   ],
   "source": [
    "rmsexgb = sqrt(skmu.mean_squared_error(regactual_Y,regpred_Yxgb))\n",
    "maexgb = skmu.mean_absolute_error(regactual_Y,regpred_Yxgb)\n",
    "r2xgb = skmu.r2_score(regactual_Y,regpred_Yxgb)\n",
    "print(\"XGBoost Regressor Metrics: \\n RMSE: \", rmsexgb, \"\\n MAE: \", maexgb, \"\\n R2: \",r2xgb)"
   ]
  },
  {
   "cell_type": "code",
   "execution_count": 6,
   "metadata": {},
   "outputs": [],
   "source": [
    "reglin = LinearRegression()\n",
    "reglin.fit(train_X,regtrain_Y)\n",
    "regpred_Ylin = reglin.predict(test_X)"
   ]
  },
  {
   "cell_type": "code",
   "execution_count": 7,
   "metadata": {},
   "outputs": [
    {
     "name": "stdout",
     "output_type": "stream",
     "text": [
      "Linear Regressor Metrics: \n",
      " RMSE:  18.34550577358906 \n",
      " MAE:  13.517815141576698 \n",
      " R2:  0.9470158465478425\n"
     ]
    }
   ],
   "source": [
    "rmselin = sqrt(skmu.mean_squared_error(regactual_Y, regpred_Ylin))\n",
    "maelin = skmu.mean_absolute_error(regactual_Y,regpred_Ylin)\n",
    "r2lin = skmu.r2_score(regactual_Y,regpred_Ylin)\n",
    "print(\"Linear Regressor Metrics: \\n RMSE: \", rmselin, \"\\n MAE: \", maelin, \"\\n R2: \",r2lin)"
   ]
  },
  {
   "cell_type": "code",
   "execution_count": 8,
   "metadata": {},
   "outputs": [],
   "source": [
    "regtrees = DecisionTreeRegressor(random_state = 0)\n",
    "regtrees.fit(train_X, regtrain_Y)\n",
    "regpred_Ytree = regtrees.predict(test_X)"
   ]
  },
  {
   "cell_type": "code",
   "execution_count": 9,
   "metadata": {},
   "outputs": [
    {
     "name": "stdout",
     "output_type": "stream",
     "text": [
      "Decision Tree Regressor Metrics: \n",
      " RMSE:  25.51054043452357 \n",
      " MAE:  18.370749911147968 \n",
      " R2:  0.8975467029123088\n"
     ]
    }
   ],
   "source": [
    "rmsetree = sqrt(skmu.mean_squared_error(regactual_Y, regpred_Ytree))\n",
    "maetree = skmu.mean_absolute_error(regactual_Y,regpred_Ytree)\n",
    "r2tree = skmu.r2_score(regactual_Y,regpred_Ytree)\n",
    "print(\"Decision Tree Regressor Metrics: \\n RMSE: \", rmsetree, \"\\n MAE: \", maetree, \"\\n R2: \",r2tree)"
   ]
  },
  {
   "cell_type": "code",
   "execution_count": 10,
   "metadata": {},
   "outputs": [],
   "source": [
    "regada = AdaBoostRegressor(n_estimators = 100)\n",
    "regada.fit(train_X, regtrain_Y)\n",
    "regpred_Yada = regada.predict(test_X)"
   ]
  },
  {
   "cell_type": "code",
   "execution_count": 11,
   "metadata": {},
   "outputs": [
    {
     "name": "stdout",
     "output_type": "stream",
     "text": [
      "AdaBoost Regressor Metrics: \n",
      " RMSE:  23.32483256914232 \n",
      " MAE:  17.834550546876326 \n",
      " R2:  0.9143507250573909\n"
     ]
    }
   ],
   "source": [
    "rmseada = sqrt(skmu.mean_squared_error(regactual_Y, regpred_Yada))\n",
    "maeada = skmu.mean_absolute_error(regactual_Y,regpred_Yada)\n",
    "r2ada = skmu.r2_score(regactual_Y,regpred_Yada)\n",
    "print(\"AdaBoost Regressor Metrics: \\n RMSE: \", rmseada, \"\\n MAE: \", maeada, \"\\n R2: \",r2ada)"
   ]
  },
  {
   "cell_type": "markdown",
   "metadata": {},
   "source": [
    "### Testing Original Test Dataset"
   ]
  },
  {
   "cell_type": "code",
   "execution_count": 12,
   "metadata": {},
   "outputs": [],
   "source": [
    "testdata = pd.read_csv(\"Data/TestData.csv\", encoding = 'utf-8')\n",
    "testdata = testdata[(testdata.ArrDel15 == 1)]\n",
    "test_X = testdata[[ 'Quarter' ,'Year' ,'Month' , 'DayofMonth','OriginAirportID','CRSDepTime', 'DestAirportID', 'DepDelayMinutes','CRSArrTime', 'windspeedKmph_x','winddirDegree_x','precipMM_x','visibility_x','pressure_x','cloudcover_x','DewPointF_x','WindGustKmph_x','humidity_x','windspeedKmph_y','winddirDegree_y','precipMM_y','visibility_y','pressure_y','cloudcover_y','DewPointF_y','WindGustKmph_y','humidity_y']].to_numpy()\n",
    "regactual_Y = testdata[['ArrDelayMinutes']].values.ravel()"
   ]
  },
  {
   "cell_type": "code",
   "execution_count": 13,
   "metadata": {},
   "outputs": [
    {
     "name": "stdout",
     "output_type": "stream",
     "text": [
      "XGBoost Regressor Metrics: \n",
      " RMSE:  30.980396933189855 \n",
      " MAE:  16.45789282394679 \n",
      " R2:  0.8164368310493996\n"
     ]
    }
   ],
   "source": [
    "regpred_Yxgb = regxgb.predict(test_X)\n",
    "rmsexgb = sqrt(skmu.mean_squared_error(regactual_Y,regpred_Yxgb))\n",
    "maexgb = skmu.mean_absolute_error(regactual_Y,regpred_Yxgb)\n",
    "r2xgb = skmu.r2_score(regactual_Y,regpred_Yxgb)\n",
    "print(\"XGBoost Regressor Metrics: \\n RMSE: \", rmsexgb, \"\\n MAE: \", maexgb, \"\\n R2: \",r2xgb)"
   ]
  },
  {
   "cell_type": "code",
   "execution_count": 14,
   "metadata": {},
   "outputs": [
    {
     "name": "stdout",
     "output_type": "stream",
     "text": [
      "Linear Regressor Metrics: \n",
      " RMSE:  20.896859369161824 \n",
      " MAE:  15.129629768949584 \n",
      " R2:  0.9164832412925407\n"
     ]
    }
   ],
   "source": [
    "regpred_Ylin = reglin.predict(test_X)\n",
    "rmselin = sqrt(skmu.mean_squared_error(regactual_Y, regpred_Ylin))\n",
    "maelin = skmu.mean_absolute_error(regactual_Y,regpred_Ylin)\n",
    "r2lin = skmu.r2_score(regactual_Y,regpred_Ylin)\n",
    "print(\"Linear Regressor Metrics: \\n RMSE: \", rmselin, \"\\n MAE: \", maelin, \"\\n R2: \",r2lin)"
   ]
  },
  {
   "cell_type": "code",
   "execution_count": 15,
   "metadata": {},
   "outputs": [
    {
     "name": "stdout",
     "output_type": "stream",
     "text": [
      "Decision Tree Regressor Metrics: \n",
      " RMSE:  26.053785631334502 \n",
      " MAE:  19.328910463861924 \n",
      " R2:  0.8701765153978249\n"
     ]
    }
   ],
   "source": [
    "regpred_Ytree = regtrees.predict(test_X)\n",
    "rmsetree = sqrt(skmu.mean_squared_error(regactual_Y, regpred_Ytree))\n",
    "maetree = skmu.mean_absolute_error(regactual_Y,regpred_Ytree)\n",
    "r2tree = skmu.r2_score(regactual_Y,regpred_Ytree)\n",
    "print(\"Decision Tree Regressor Metrics: \\n RMSE: \", rmsetree, \"\\n MAE: \", maetree, \"\\n R2: \",r2tree)"
   ]
  },
  {
   "cell_type": "code",
   "execution_count": 16,
   "metadata": {},
   "outputs": [
    {
     "name": "stdout",
     "output_type": "stream",
     "text": [
      "AdaBoost Regressor Metrics: \n",
      " RMSE:  21.343414212609193 \n",
      " MAE:  15.184455596944632 \n",
      " R2:  0.9128756849923996\n"
     ]
    }
   ],
   "source": [
    "regpred_Yada = regada.predict(test_X)\n",
    "rmseada = sqrt(skmu.mean_squared_error(regactual_Y, regpred_Yada))\n",
    "maeada = skmu.mean_absolute_error(regactual_Y,regpred_Yada)\n",
    "r2ada = skmu.r2_score(regactual_Y,regpred_Yada)\n",
    "print(\"AdaBoost Regressor Metrics: \\n RMSE: \", rmseada, \"\\n MAE: \", maeada, \"\\n R2: \",r2ada)"
   ]
  },
  {
   "cell_type": "markdown",
   "metadata": {},
   "source": [
    "### Metrics"
   ]
  },
  {
   "cell_type": "code",
   "execution_count": null,
   "metadata": {},
   "outputs": [],
   "source": [
    "\"\"\"\n",
    "From observing the metrics of the regressors and testing the test \n",
    "data model;\n",
    "we can say that Linear Regressor is the suitable regressor model for the dataset\n",
    "\"\"\""
   ]
  }
 ],
 "metadata": {
  "kernelspec": {
   "display_name": "Python 3",
   "language": "python",
   "name": "python3"
  },
  "language_info": {
   "codemirror_mode": {
    "name": "ipython",
    "version": 3
   },
   "file_extension": ".py",
   "mimetype": "text/x-python",
   "name": "python",
   "nbconvert_exporter": "python",
   "pygments_lexer": "ipython3",
   "version": "3.7.6"
  }
 },
 "nbformat": 4,
 "nbformat_minor": 4
}

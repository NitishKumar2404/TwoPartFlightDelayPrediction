{
 "cells": [
  {
   "cell_type": "markdown",
   "metadata": {},
   "source": [
    "# Regression Testing"
   ]
  },
  {
   "cell_type": "markdown",
   "metadata": {},
   "source": [
    "### Importing Modules"
   ]
  },
  {
   "cell_type": "code",
   "execution_count": 1,
   "metadata": {},
   "outputs": [],
   "source": [
    "import pandas as pd\n",
    "import numpy as np\n",
    "import sklearn.metrics as skmu\n",
    "from math import sqrt\n",
    "from xgboost import XGBRegressor\n",
    "from sklearn.linear_model import LinearRegression\n",
    "from sklearn.tree import DecisionTreeRegressor\n",
    "from sklearn.ensemble import AdaBoostRegressor"
   ]
  },
  {
   "cell_type": "markdown",
   "metadata": {},
   "source": [
    "### Datasets"
   ]
  },
  {
   "cell_type": "code",
   "execution_count": 2,
   "metadata": {},
   "outputs": [],
   "source": [
    "train = pd.read_csv(\"Data/TrainingData.csv\", encoding = \"utf-8\")\n",
    "test = pd.read_csv(\"Data/TestData.csv\", encoding = \"utf-8\")\n",
    "train_X = train[(train.ArrDel15 == 1)]\n",
    "train_X = train[[ 'Quarter' ,'Year' ,'Month' , 'DayofMonth','OriginAirportID','CRSDepTime', 'DestAirportID','CRSArrTime', 'windspeedKmph_x','winddirDegree_x','precipMM_x','visibility_x','pressure_x','cloudcover_x','DewPointF_x','WindGustKmph_x','humidity_x','windspeedKmph_y','winddirDegree_y','precipMM_y','visibility_y','pressure_y','cloudcover_y','DewPointF_y','WindGustKmph_y','humidity_y']].to_numpy()"
   ]
  },
  {
   "cell_type": "code",
   "execution_count": 3,
   "metadata": {},
   "outputs": [],
   "source": [
    "regtrain_Y = train[['ArrDelayMinutes']].values.ravel()"
   ]
  },
  {
   "cell_type": "markdown",
   "metadata": {},
   "source": [
    "### Regressors"
   ]
  },
  {
   "cell_type": "code",
   "execution_count": 4,
   "metadata": {},
   "outputs": [
    {
     "data": {
      "text/plain": [
       "AdaBoostRegressor(n_estimators=100)"
      ]
     },
     "execution_count": 4,
     "metadata": {},
     "output_type": "execute_result"
    }
   ],
   "source": [
    "regxgb = XGBRegressor(n_estimators=200, tree_method='gpu_hist', predictor='gpu_predictor')\n",
    "regxgb.fit(train_X,regtrain_Y)\n",
    "reglin = LinearRegression()\n",
    "reglin.fit(train_X,regtrain_Y)\n",
    "regtrees = DecisionTreeRegressor(random_state = 0)\n",
    "regtrees.fit(train_X, regtrain_Y)\n",
    "regada = AdaBoostRegressor(n_estimators = 100)\n",
    "regada.fit(train_X, regtrain_Y)"
   ]
  },
  {
   "cell_type": "code",
   "execution_count": 5,
   "metadata": {},
   "outputs": [],
   "source": [
    "def regressor(test_X, regactual_Y):\n",
    "    # XGB Regressor\n",
    "    regpred_Yxgb = regxgb.predict(test_X)\n",
    "    # XGB Regressor Metrics\n",
    "    rmsexgb = sqrt(skmu.mean_squared_error(regactual_Y,regpred_Yxgb))\n",
    "    maexgb = skmu.mean_absolute_error(regactual_Y,regpred_Yxgb)\n",
    "    r2xgb = skmu.r2_score(regactual_Y,regpred_Yxgb)\n",
    "    print(\"XGBoost Regressor Metrics: \\n RMSE: \", rmsexgb, \"\\n MAE: \", maexgb, \"\\n R2: \",r2xgb)\n",
    "    # Linear Regressor\n",
    "    regpred_Ylin = reglin.predict(test_X)\n",
    "    # Linear Regressor Metrics\n",
    "    rmselin = sqrt(skmu.mean_squared_error(regactual_Y, regpred_Ylin))\n",
    "    maelin = skmu.mean_absolute_error(regactual_Y,regpred_Ylin)\n",
    "    r2lin = skmu.r2_score(regactual_Y,regpred_Ylin)\n",
    "    print(\"Linear Regressor Metrics: \\n RMSE: \", rmselin, \"\\n MAE: \", maelin, \"\\n R2: \",r2lin)\n",
    "    # Decision Trees Regressor\n",
    "    regpred_Ytree = regtrees.predict(test_X)\n",
    "    # Decision Trees Regressor Metrics\n",
    "    rmsetree = sqrt(skmu.mean_squared_error(regactual_Y, regpred_Ytree))\n",
    "    maetree = skmu.mean_absolute_error(regactual_Y,regpred_Ytree)\n",
    "    r2tree = skmu.r2_score(regactual_Y,regpred_Ytree)\n",
    "    print(\"Decision Tree Regressor Metrics: \\n RMSE: \", rmsetree, \"\\n MAE: \", maetree, \"\\n R2: \",r2tree)\n",
    "    # AdaBoost Regressor\n",
    "    regpred_Yada = regada.predict(test_X)\n",
    "    # AdaBoost Regressor Metrics\n",
    "    rmseada = sqrt(skmu.mean_squared_error(regactual_Y, regpred_Yada))\n",
    "    maeada = skmu.mean_absolute_error(regactual_Y,regpred_Yada)\n",
    "    r2ada = skmu.r2_score(regactual_Y,regpred_Yada)\n",
    "    print(\"AdaBoost Regressor Metrics: \\n RMSE: \", rmseada, \"\\n MAE: \", maeada, \"\\n R2: \",r2ada)"
   ]
  },
  {
   "cell_type": "markdown",
   "metadata": {},
   "source": [
    "### Grouping Test Data"
   ]
  },
  {
   "cell_type": "code",
   "execution_count": 6,
   "metadata": {},
   "outputs": [
    {
     "name": "stdout",
     "output_type": "stream",
     "text": [
      "XGBoost Regressor Metrics: \n",
      " RMSE:  31.531257732192447 \n",
      " MAE:  23.94673017562231 \n",
      " R2:  -1.0708817547811638\n",
      "Linear Regressor Metrics: \n",
      " RMSE:  31.887415866269865 \n",
      " MAE:  24.095272114028276 \n",
      " R2:  -1.1179288413889537\n",
      "Decision Tree Regressor Metrics: \n",
      " RMSE:  57.686806429606214 \n",
      " MAE:  37.445321767497035 \n",
      " R2:  -5.931475726800077\n",
      "AdaBoost Regressor Metrics: \n",
      " RMSE:  127.31046735478398 \n",
      " MAE:  112.15470511858071 \n",
      " R2:  -32.75988339046365\n"
     ]
    }
   ],
   "source": [
    "test1 = test[(test.ArrDelayMinutes >= 15 ) & (test.ArrDelayMinutes < 100)]\n",
    "test_X = test1[[ 'Quarter' ,'Year' ,'Month' , 'DayofMonth','OriginAirportID','CRSDepTime', 'DestAirportID','CRSArrTime', 'windspeedKmph_x','winddirDegree_x','precipMM_x','visibility_x','pressure_x','cloudcover_x','DewPointF_x','WindGustKmph_x','humidity_x','windspeedKmph_y','winddirDegree_y','precipMM_y','visibility_y','pressure_y','cloudcover_y','DewPointF_y','WindGustKmph_y','humidity_y']].to_numpy()\n",
    "regactual_Y = test1[['ArrDelayMinutes']].values.ravel()\n",
    "regressor(test_X, regactual_Y)"
   ]
  },
  {
   "cell_type": "code",
   "execution_count": 7,
   "metadata": {},
   "outputs": [
    {
     "name": "stdout",
     "output_type": "stream",
     "text": [
      "XGBoost Regressor Metrics: \n",
      " RMSE:  108.15667112213885 \n",
      " MAE:  102.29133487879066 \n",
      " R2:  -15.30625774040858\n",
      "Linear Regressor Metrics: \n",
      " RMSE:  119.09982893081853 \n",
      " MAE:  115.82452502585483 \n",
      " R2:  -18.772881064340915\n",
      "Decision Tree Regressor Metrics: \n",
      " RMSE:  115.83929298917958 \n",
      " MAE:  101.78759942154736 \n",
      " R2:  -17.70507591259198\n",
      "AdaBoost Regressor Metrics: \n",
      " RMSE:  65.89313817097535 \n",
      " MAE:  47.406248177282116 \n",
      " R2:  -5.0524061158366225\n"
     ]
    }
   ],
   "source": [
    "test1 = test[(test.ArrDelayMinutes >= 100 ) & (test.ArrDelayMinutes < 200)]\n",
    "test_X = test1[[ 'Quarter' ,'Year' ,'Month' , 'DayofMonth','OriginAirportID','CRSDepTime', 'DestAirportID','CRSArrTime', 'windspeedKmph_x','winddirDegree_x','precipMM_x','visibility_x','pressure_x','cloudcover_x','DewPointF_x','WindGustKmph_x','humidity_x','windspeedKmph_y','winddirDegree_y','precipMM_y','visibility_y','pressure_y','cloudcover_y','DewPointF_y','WindGustKmph_y','humidity_y']].to_numpy()\n",
    "regactual_Y = test1[['ArrDelayMinutes']].values.ravel()\n",
    "regressor(test_X, regactual_Y)"
   ]
  },
  {
   "cell_type": "code",
   "execution_count": 8,
   "metadata": {},
   "outputs": [
    {
     "name": "stdout",
     "output_type": "stream",
     "text": [
      "XGBoost Regressor Metrics: \n",
      " RMSE:  246.8514456091844 \n",
      " MAE:  232.69890831566568 \n",
      " R2:  -11.287099970752859\n",
      "Linear Regressor Metrics: \n",
      " RMSE:  265.765591088296 \n",
      " MAE:  256.010522856738 \n",
      " R2:  -13.242149673926301\n",
      "Decision Tree Regressor Metrics: \n",
      " RMSE:  242.81494510782687 \n",
      " MAE:  220.70812603648423 \n",
      " R2:  -10.888549479158597\n",
      "AdaBoost Regressor Metrics: \n",
      " RMSE:  149.13079795682233 \n",
      " MAE:  125.99853989608962 \n",
      " R2:  -3.484486545475982\n"
     ]
    }
   ],
   "source": [
    "test1 = test[(test.ArrDelayMinutes >= 200 ) & (test.ArrDelayMinutes < 500)]\n",
    "test_X = test1[[ 'Quarter' ,'Year' ,'Month' , 'DayofMonth','OriginAirportID','CRSDepTime', 'DestAirportID','CRSArrTime', 'windspeedKmph_x','winddirDegree_x','precipMM_x','visibility_x','pressure_x','cloudcover_x','DewPointF_x','WindGustKmph_x','humidity_x','windspeedKmph_y','winddirDegree_y','precipMM_y','visibility_y','pressure_y','cloudcover_y','DewPointF_y','WindGustKmph_y','humidity_y']].to_numpy()\n",
    "regactual_Y = test1[['ArrDelayMinutes']].values.ravel()\n",
    "regressor(test_X, regactual_Y)"
   ]
  },
  {
   "cell_type": "code",
   "execution_count": 9,
   "metadata": {},
   "outputs": [
    {
     "name": "stdout",
     "output_type": "stream",
     "text": [
      "XGBoost Regressor Metrics: \n",
      " RMSE:  702.0748447575919 \n",
      " MAE:  683.6350663105646 \n",
      " R2:  -19.127661077745678\n",
      "Linear Regressor Metrics: \n",
      " RMSE:  706.0105030186791 \n",
      " MAE:  688.8590312639049 \n",
      " R2:  -19.353954977112053\n",
      "Decision Tree Regressor Metrics: \n",
      " RMSE:  674.486028600873 \n",
      " MAE:  648.3055555555555 \n",
      " R2:  -17.576864006606105\n",
      "AdaBoost Regressor Metrics: \n",
      " RMSE:  574.5472631886174 \n",
      " MAE:  546.6214275768506 \n",
      " R2:  -12.47963107789405\n"
     ]
    }
   ],
   "source": [
    "test1 = test[(test.ArrDelayMinutes >= 500 ) & (test.ArrDelayMinutes < 1000)]\n",
    "test_X = test1[[ 'Quarter' ,'Year' ,'Month' , 'DayofMonth','OriginAirportID','CRSDepTime', 'DestAirportID','CRSArrTime', 'windspeedKmph_x','winddirDegree_x','precipMM_x','visibility_x','pressure_x','cloudcover_x','DewPointF_x','WindGustKmph_x','humidity_x','windspeedKmph_y','winddirDegree_y','precipMM_y','visibility_y','pressure_y','cloudcover_y','DewPointF_y','WindGustKmph_y','humidity_y']].to_numpy()\n",
    "regactual_Y = test1[['ArrDelayMinutes']].values.ravel()\n",
    "regressor(test_X, regactual_Y)"
   ]
  },
  {
   "cell_type": "code",
   "execution_count": 10,
   "metadata": {},
   "outputs": [
    {
     "name": "stdout",
     "output_type": "stream",
     "text": [
      "XGBoost Regressor Metrics: \n",
      " RMSE:  1290.4224813911915 \n",
      " MAE:  1279.217201948166 \n",
      " R2:  -61.674175937363096\n",
      "Linear Regressor Metrics: \n",
      " RMSE:  1279.5664321638228 \n",
      " MAE:  1268.8920691555686 \n",
      " R2:  -60.62408274005251\n",
      "Decision Tree Regressor Metrics: \n",
      " RMSE:  1276.055053671275 \n",
      " MAE:  1262.5 \n",
      " R2:  -60.286329933381005\n",
      "AdaBoost Regressor Metrics: \n",
      " RMSE:  1099.508218217744 \n",
      " MAE:  1079.2816194292373 \n",
      " R2:  -44.50108479537648\n"
     ]
    }
   ],
   "source": [
    "test1 = test[(test.ArrDelayMinutes >= 1000 )]\n",
    "test_X = test1[[ 'Quarter' ,'Year' ,'Month' , 'DayofMonth','OriginAirportID','CRSDepTime', 'DestAirportID','CRSArrTime', 'windspeedKmph_x','winddirDegree_x','precipMM_x','visibility_x','pressure_x','cloudcover_x','DewPointF_x','WindGustKmph_x','humidity_x','windspeedKmph_y','winddirDegree_y','precipMM_y','visibility_y','pressure_y','cloudcover_y','DewPointF_y','WindGustKmph_y','humidity_y']].to_numpy()\n",
    "regactual_Y = test1[['ArrDelayMinutes']].values.ravel()\n",
    "regressor(test_X, regactual_Y)"
   ]
  },
  {
   "cell_type": "code",
   "execution_count": null,
   "metadata": {},
   "outputs": [],
   "source": []
  }
 ],
 "metadata": {
  "kernelspec": {
   "display_name": "Python 3",
   "language": "python",
   "name": "python3"
  },
  "language_info": {
   "codemirror_mode": {
    "name": "ipython",
    "version": 3
   },
   "file_extension": ".py",
   "mimetype": "text/x-python",
   "name": "python",
   "nbconvert_exporter": "python",
   "pygments_lexer": "ipython3",
   "version": "3.7.6"
  }
 },
 "nbformat": 4,
 "nbformat_minor": 4
}

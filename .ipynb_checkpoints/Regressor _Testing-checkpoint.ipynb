{
 "cells": [
  {
   "cell_type": "markdown",
   "metadata": {},
   "source": [
    "# Regression Testing"
   ]
  },
  {
   "cell_type": "markdown",
   "metadata": {},
   "source": [
    "### Importing Modules"
   ]
  },
  {
   "cell_type": "code",
   "execution_count": 1,
   "metadata": {},
   "outputs": [],
   "source": [
    "import pandas as pd\n",
    "import numpy as np\n",
    "import sklearn.metrics as skmu\n",
    "from math import sqrt\n",
    "from xgboost import XGBRegressor\n",
    "from sklearn.linear_model import LinearRegression\n",
    "from sklearn.tree import DecisionTreeRegressor\n",
    "from sklearn.ensemble import AdaBoostRegressor"
   ]
  },
  {
   "cell_type": "markdown",
   "metadata": {},
   "source": [
    "### Datasets"
   ]
  },
  {
   "cell_type": "code",
   "execution_count": 2,
   "metadata": {},
   "outputs": [],
   "source": [
    "train = pd.read_csv(\"Data/TrainingData.csv\", encoding = \"utf-8\")\n",
    "test = pd.read_csv(\"Data/TestData.csv\", encoding = \"utf-8\")\n",
    "train_X = train[(train.ArrDel15 == 1)]\n",
    "train_X = train[[ 'Quarter' ,'Year' ,'Month' , 'DayofMonth','OriginAirportID','CRSDepTime', 'DestAirportID', 'DepDelayMinutes','CRSArrTime', 'windspeedKmph_x','winddirDegree_x','precipMM_x','visibility_x','pressure_x','cloudcover_x','DewPointF_x','WindGustKmph_x','humidity_x','windspeedKmph_y','winddirDegree_y','precipMM_y','visibility_y','pressure_y','cloudcover_y','DewPointF_y','WindGustKmph_y','humidity_y']].to_numpy()"
   ]
  },
  {
   "cell_type": "code",
   "execution_count": 3,
   "metadata": {},
   "outputs": [],
   "source": [
    "regtrain_Y = train[['ArrDelayMinutes']].values.ravel()"
   ]
  },
  {
   "cell_type": "markdown",
   "metadata": {},
   "source": [
    "### Regressors"
   ]
  },
  {
   "cell_type": "code",
   "execution_count": 5,
   "metadata": {},
   "outputs": [
    {
     "data": {
      "text/plain": [
       "AdaBoostRegressor(n_estimators=100)"
      ]
     },
     "execution_count": 5,
     "metadata": {},
     "output_type": "execute_result"
    }
   ],
   "source": [
    "#regxgb = XGBRegressor(n_estimators=200, tree_method='gpu_hist', predictor='gpu_predictor')\n",
    "#regxgb.fit(train_X,regtrain_Y)\n",
    "reglin = LinearRegression()\n",
    "reglin.fit(train_X,regtrain_Y)\n",
    "regtrees = DecisionTreeRegressor(random_state = 0)\n",
    "regtrees.fit(train_X, regtrain_Y)\n",
    "regada = AdaBoostRegressor(n_estimators = 100)\n",
    "regada.fit(train_X, regtrain_Y)"
   ]
  },
  {
   "cell_type": "code",
   "execution_count": 7,
   "metadata": {},
   "outputs": [],
   "source": [
    "def regressor(test_X, regactual_Y):\n",
    "    # Linear Regressor\n",
    "    regpred_Ylin = reglin.predict(test_X)\n",
    "    # Linear Regressor Metrics\n",
    "    rmselin = sqrt(skmu.mean_squared_error(regactual_Y, regpred_Ylin))\n",
    "    maelin = skmu.mean_absolute_error(regactual_Y,regpred_Ylin)\n",
    "    r2lin = skmu.r2_score(regactual_Y,regpred_Ylin)\n",
    "    print(\"Linear Regressor Metrics: \\n RMSE: \", rmselin, \"\\n MAE: \", maelin, \"\\n R2: \",r2lin)\n",
    "    # Decision Trees Regressor\n",
    "    regpred_Ytree = regtrees.predict(test_X)\n",
    "    # Decision Trees Regressor Metrics\n",
    "    rmsetree = sqrt(skmu.mean_squared_error(regactual_Y, regpred_Ytree))\n",
    "    maetree = skmu.mean_absolute_error(regactual_Y,regpred_Ytree)\n",
    "    r2tree = skmu.r2_score(regactual_Y,regpred_Ytree)\n",
    "    print(\"Decision Tree Regressor Metrics: \\n RMSE: \", rmsetree, \"\\n MAE: \", maetree, \"\\n R2: \",r2tree)\n",
    "    # AdaBoost Regressor\n",
    "    regpred_Yada = regada.predict(test_X)\n",
    "    # AdaBoost Regressor Metrics\n",
    "    rmseada = sqrt(skmu.mean_squared_error(regactual_Y, regpred_Yada))\n",
    "    maeada = skmu.mean_absolute_error(regactual_Y,regpred_Yada)\n",
    "    r2ada = skmu.r2_score(regactual_Y,regpred_Yada)\n",
    "    print(\"AdaBoost Regressor Metrics: \\n RMSE: \", rmseada, \"\\n MAE: \", maeada, \"\\n R2: \",r2ada)"
   ]
  },
  {
   "cell_type": "markdown",
   "metadata": {},
   "source": [
    "### Grouping Test Data"
   ]
  },
  {
   "cell_type": "code",
   "execution_count": 8,
   "metadata": {},
   "outputs": [
    {
     "name": "stdout",
     "output_type": "stream",
     "text": [
      "Linear Regressor Metrics: \n",
      " RMSE:  19.058773564475565 \n",
      " MAE:  14.586950360718086 \n",
      " R2:  0.24340648665786857\n",
      "Decision Tree Regressor Metrics: \n",
      " RMSE:  23.88825592482409 \n",
      " MAE:  18.314297894424673 \n",
      " R2:  -0.188616074863303\n",
      "AdaBoost Regressor Metrics: \n",
      " RMSE:  18.903446622990188 \n",
      " MAE:  14.946146459278472 \n",
      " R2:  0.2556885436289035\n"
     ]
    }
   ],
   "source": [
    "test1 = test[(test.ArrDelayMinutes >= 15 ) & (test.ArrDelayMinutes < 100)]\n",
    "test_X = test1[[ 'Quarter' ,'Year' ,'Month' , 'DayofMonth','OriginAirportID','CRSDepTime', 'DestAirportID', 'DepDelayMinutes','CRSArrTime', 'windspeedKmph_x','winddirDegree_x','precipMM_x','visibility_x','pressure_x','cloudcover_x','DewPointF_x','WindGustKmph_x','humidity_x','windspeedKmph_y','winddirDegree_y','precipMM_y','visibility_y','pressure_y','cloudcover_y','DewPointF_y','WindGustKmph_y','humidity_y']].to_numpy()\n",
    "regactual_Y = test1[['ArrDelayMinutes']].values.ravel()\n",
    "regressor(test_X, regactual_Y)"
   ]
  },
  {
   "cell_type": "code",
   "execution_count": 11,
   "metadata": {},
   "outputs": [
    {
     "name": "stdout",
     "output_type": "stream",
     "text": [
      "Linear Regressor Metrics: \n",
      " RMSE:  26.657509426485255 \n",
      " MAE:  16.748542477401337 \n",
      " R2:  0.009426235176119735\n",
      "Decision Tree Regressor Metrics: \n",
      " RMSE:  33.61397227822147 \n",
      " MAE:  23.717281272595805 \n",
      " R2:  -0.5750246452517571\n",
      "AdaBoost Regressor Metrics: \n",
      " RMSE:  30.0169056815398 \n",
      " MAE:  22.07450295951907 \n",
      " R2:  -0.2559707341848476\n"
     ]
    }
   ],
   "source": [
    "test1 = test[(test.ArrDelayMinutes >= 100 ) & (test.ArrDelayMinutes < 200)]\n",
    "test_X = test1[[ 'Quarter' ,'Year' ,'Month' , 'DayofMonth','OriginAirportID','CRSDepTime', 'DestAirportID', 'DepDelayMinutes','CRSArrTime', 'windspeedKmph_x','winddirDegree_x','precipMM_x','visibility_x','pressure_x','cloudcover_x','DewPointF_x','WindGustKmph_x','humidity_x','windspeedKmph_y','winddirDegree_y','precipMM_y','visibility_y','pressure_y','cloudcover_y','DewPointF_y','WindGustKmph_y','humidity_y']].to_numpy()\n",
    "regactual_Y = test1[['ArrDelayMinutes']].values.ravel()\n",
    "regressor(test_X, regactual_Y)"
   ]
  },
  {
   "cell_type": "code",
   "execution_count": 12,
   "metadata": {},
   "outputs": [
    {
     "name": "stdout",
     "output_type": "stream",
     "text": [
      "Linear Regressor Metrics: \n",
      " RMSE:  32.9860852368298 \n",
      " MAE:  20.592734207308485 \n",
      " R2:  0.7805984982947547\n",
      "Decision Tree Regressor Metrics: \n",
      " RMSE:  38.94772616128351 \n",
      " MAE:  26.308457711442784 \n",
      " R2:  0.6941262146357356\n",
      "AdaBoost Regressor Metrics: \n",
      " RMSE:  36.17352140217232 \n",
      " MAE:  24.997709830188874 \n",
      " R2:  0.736148468905288\n"
     ]
    }
   ],
   "source": [
    "test1 = test[(test.ArrDelayMinutes >= 200 ) & (test.ArrDelayMinutes < 500)]\n",
    "test_X = test1[[ 'Quarter' ,'Year' ,'Month' , 'DayofMonth','OriginAirportID','CRSDepTime', 'DestAirportID', 'DepDelayMinutes','CRSArrTime', 'windspeedKmph_x','winddirDegree_x','precipMM_x','visibility_x','pressure_x','cloudcover_x','DewPointF_x','WindGustKmph_x','humidity_x','windspeedKmph_y','winddirDegree_y','precipMM_y','visibility_y','pressure_y','cloudcover_y','DewPointF_y','WindGustKmph_y','humidity_y']].to_numpy()\n",
    "regactual_Y = test1[['ArrDelayMinutes']].values.ravel()\n",
    "regressor(test_X, regactual_Y)"
   ]
  },
  {
   "cell_type": "code",
   "execution_count": 13,
   "metadata": {},
   "outputs": [
    {
     "name": "stdout",
     "output_type": "stream",
     "text": [
      "Linear Regressor Metrics: \n",
      " RMSE:  30.96854280790588 \n",
      " MAE:  26.84833593761018 \n",
      " R2:  0.9608377147111434\n",
      "Decision Tree Regressor Metrics: \n",
      " RMSE:  29.371660566683058 \n",
      " MAE:  24.194444444444443 \n",
      " R2:  0.9647723650734056\n",
      "AdaBoost Regressor Metrics: \n",
      " RMSE:  57.458932967070936 \n",
      " MAE:  48.75010564235896 \n",
      " R2:  0.8651839498034655\n"
     ]
    }
   ],
   "source": [
    "test1 = test[(test.ArrDelayMinutes >= 500 ) & (test.ArrDelayMinutes < 1000)]\n",
    "test_X = test1[[ 'Quarter' ,'Year' ,'Month' , 'DayofMonth','OriginAirportID','CRSDepTime', 'DestAirportID', 'DepDelayMinutes','CRSArrTime', 'windspeedKmph_x','winddirDegree_x','precipMM_x','visibility_x','pressure_x','cloudcover_x','DewPointF_x','WindGustKmph_x','humidity_x','windspeedKmph_y','winddirDegree_y','precipMM_y','visibility_y','pressure_y','cloudcover_y','DewPointF_y','WindGustKmph_y','humidity_y']].to_numpy()\n",
    "regactual_Y = test1[['ArrDelayMinutes']].values.ravel()\n",
    "regressor(test_X, regactual_Y)"
   ]
  },
  {
   "cell_type": "code",
   "execution_count": 14,
   "metadata": {},
   "outputs": [
    {
     "name": "stdout",
     "output_type": "stream",
     "text": [
      "Linear Regressor Metrics: \n",
      " RMSE:  29.39956429337451 \n",
      " MAE:  26.517408137346138 \n",
      " R2:  0.9674683134239053\n",
      "Decision Tree Regressor Metrics: \n",
      " RMSE:  56.71860364994893 \n",
      " MAE:  56.0 \n",
      " R2:  0.8789190409876172\n",
      "AdaBoost Regressor Metrics: \n",
      " RMSE:  61.67152689005177 \n",
      " MAE:  54.73828171699074 \n",
      " R2:  0.8568490636098318\n"
     ]
    }
   ],
   "source": [
    "test1 = test[(test.ArrDelayMinutes >= 1000 )]\n",
    "test_X = test1[[ 'Quarter' ,'Year' ,'Month' , 'DayofMonth','OriginAirportID','CRSDepTime', 'DestAirportID', 'DepDelayMinutes','CRSArrTime', 'windspeedKmph_x','winddirDegree_x','precipMM_x','visibility_x','pressure_x','cloudcover_x','DewPointF_x','WindGustKmph_x','humidity_x','windspeedKmph_y','winddirDegree_y','precipMM_y','visibility_y','pressure_y','cloudcover_y','DewPointF_y','WindGustKmph_y','humidity_y']].to_numpy()\n",
    "regactual_Y = test1[['ArrDelayMinutes']].values.ravel()\n",
    "regressor(test_X, regactual_Y)"
   ]
  },
  {
   "cell_type": "code",
   "execution_count": null,
   "metadata": {},
   "outputs": [],
   "source": []
  }
 ],
 "metadata": {
  "kernelspec": {
   "display_name": "Python 3",
   "language": "python",
   "name": "python3"
  },
  "language_info": {
   "codemirror_mode": {
    "name": "ipython",
    "version": 3
   },
   "file_extension": ".py",
   "mimetype": "text/x-python",
   "name": "python",
   "nbconvert_exporter": "python",
   "pygments_lexer": "ipython3",
   "version": "3.7.6"
  }
 },
 "nbformat": 4,
 "nbformat_minor": 4
}

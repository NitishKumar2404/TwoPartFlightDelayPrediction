{
 "cells": [
  {
   "cell_type": "markdown",
   "metadata": {},
   "source": [
    "# Module 1\n",
    "## Data Preprocessing "
   ]
  },
  {
   "cell_type": "markdown",
   "metadata": {},
   "source": [
    "### Importing Modules"
   ]
  },
  {
   "cell_type": "code",
   "execution_count": 1,
   "metadata": {},
   "outputs": [],
   "source": [
    "import pandas as pd\n",
    "import numpy as np\n",
    "import json\n",
    "import sklearn.utils as skmu\n",
    "from math import floor"
   ]
  },
  {
   "cell_type": "markdown",
   "metadata": {},
   "source": [
    "### Data to be Considered"
   ]
  },
  {
   "cell_type": "code",
   "execution_count": 2,
   "metadata": {},
   "outputs": [],
   "source": [
    "## Flights Data Pathnames\n",
    "dirpath = \"Data/Flight/\"\n",
    "dirname = \"On_Time_On_Time_Performance_\"\n",
    "flightpathname = list()\n",
    "for i in (2016,2017):\n",
    "    i = str(i)\n",
    "    for j in range(1,13):\n",
    "        j = str(j)\n",
    "        filename = dirname + i + \"_\" + j\n",
    "        pathname = dirpath + i + \"/\" + filename + \"/\" + filename + \".csv\"\n",
    "        flightpathname.append(pathname)\n",
    "\n",
    "\n",
    "## Weather Data\n",
    "aircodes = ['ATL', 'CLT', 'DEN', 'DFW', 'EWR', 'IAH', 'JFK', 'LAS', 'LAX', 'MCO', 'MIA', 'ORD', 'PHX', 'SEA', 'SFO']\n",
    "\n",
    "#Weather Factors to consider\n",
    "weatherfactor = ['FlightDate', 'time', 'Origin', 'Dest', 'windspeedKmph', 'winddirDegree', 'precipMM', 'visibility', 'pressure', 'cloudcover', 'DewPointF', 'WindGustKmph', 'humidity']"
   ]
  },
  {
   "cell_type": "markdown",
   "metadata": {},
   "source": [
    "### Processing Flight Data "
   ]
  },
  {
   "cell_type": "code",
   "execution_count": 3,
   "metadata": {},
   "outputs": [],
   "source": [
    "dataframes = list()\n",
    "for i in flightpathname:   \n",
    "    dataframe1 = pd.read_csv(i, encoding = 'utf-8', low_memory = False)\n",
    "    dataframe1  = dataframe1[['FlightDate', 'Quarter' ,'Year' ,'Month' , 'DayofMonth', 'Origin', 'OriginAirportID','CRSDepTime', 'DepDelayMinutes', 'Dest', 'DestAirportID', 'CRSArrTime', 'ArrDelayMinutes','ArrDel15']]\n",
    "    dataframe1['FlightDate'] = pd.to_datetime(dataframe1['FlightDate'])\n",
    "    deptime = dataframe1['CRSDepTime'].to_list()\n",
    "    arrtime = dataframe1['CRSArrTime'].to_list()\n",
    "    deptime = [((floor(x/100)) * 100) for x in deptime]\n",
    "    arrtime = [((floor(x/100)) * 100) for x in arrtime]\n",
    "    dataframe1.loc[:,'CRSDepTime'] = deptime\n",
    "    dataframe1.loc[:,'CRSArrTime'] = arrtime\n",
    "    acdatf = list()\n",
    "    for j in aircodes:\n",
    "        dtf = dataframe1[(dataframe1.Origin == j)]\n",
    "        dt = list()\n",
    "        for k in aircodes:\n",
    "            if k==j:\n",
    "                continue\n",
    "            else:        \n",
    "                dtf1 = dtf[(dtf.Dest == k)]\n",
    "                dt.append(dtf1)\n",
    "        acdatf.append(pd.concat(dt))\n",
    "    dataframe1 = pd.concat(acdatf)\n",
    "    dataframes.append(dataframe1)"
   ]
  },
  {
   "cell_type": "code",
   "execution_count": 4,
   "metadata": {},
   "outputs": [],
   "source": [
    "df = pd.concat(dataframes)\n",
    "df.to_csv(\"Data/TotalFlightsData.csv\", index = False, encoding = 'utf-8')"
   ]
  },
  {
   "cell_type": "markdown",
   "metadata": {},
   "source": [
    "### Processing Weather Data"
   ]
  },
  {
   "cell_type": "code",
   "execution_count": 5,
   "metadata": {},
   "outputs": [],
   "source": [
    "dirpath = \"Data/weather/\"\n",
    "weatherdata = dict()\n",
    "for i in weatherfactor:\n",
    "    weatherdata[i] = list()\n",
    "for k in aircodes:\n",
    "    for i in (2016, 2017):\n",
    "        i = str(i)\n",
    "        for j in range(1,13):\n",
    "            j = str(j)\n",
    "            p = dirpath + k + \"/\" + i + \"-\" + j + \".json\"\n",
    "            data = json.load(open(p))['data']['weather']\n",
    "            for d in data:\n",
    "                date = d['date']\n",
    "                d = d['hourly']\n",
    "                for t in d:\n",
    "                    weatherdata['Origin'].append(k)\n",
    "                    weatherdata['Dest'].append(k)\n",
    "                    weatherdata['FlightDate'].append(date)\n",
    "                    for keys in weatherfactor:\n",
    "                        try:\n",
    "                            weatherdata[keys].append(t[keys])\n",
    "                        except:\n",
    "                            continue"
   ]
  },
  {
   "cell_type": "code",
   "execution_count": 6,
   "metadata": {},
   "outputs": [],
   "source": [
    "wdataf = pd.DataFrame(weatherdata, columns = weatherfactor)\n",
    "wdataf['FlightDate'] = pd.to_datetime(wdataf['FlightDate'])\n",
    "wdataf[\"CRSDepTime\"] = wdataf['time'].values\n",
    "wdataf[\"CRSArrTime\"] = wdataf['time'].values\n",
    "wdataf.to_csv(\"Data/TotalWeatherData.csv\", index = False, encoding = 'utf-8')"
   ]
  },
  {
   "cell_type": "markdown",
   "metadata": {},
   "source": [
    "### Merging Weather and Flight Data"
   ]
  },
  {
   "cell_type": "code",
   "execution_count": 7,
   "metadata": {},
   "outputs": [],
   "source": [
    "fdatf = pd.read_csv(\"Data/TotalFlightsData.csv\", encoding = 'utf-8')\n",
    "wdatf = pd.read_csv(\"Data/TotalWeatherData.csv\", encoding = 'utf-8')"
   ]
  },
  {
   "cell_type": "code",
   "execution_count": 8,
   "metadata": {},
   "outputs": [],
   "source": [
    "wdatf1 = wdatf[['FlightDate', 'CRSDepTime', 'Origin', 'windspeedKmph', 'winddirDegree', 'precipMM', 'visibility', 'pressure', 'cloudcover', 'DewPointF', 'WindGustKmph', 'humidity']]\n",
    "wdatf2 = wdatf[['FlightDate', 'CRSArrTime', 'Dest', 'windspeedKmph', 'winddirDegree', 'precipMM', 'visibility', 'pressure', 'cloudcover', 'DewPointF', 'WindGustKmph', 'humidity']]"
   ]
  },
  {
   "cell_type": "code",
   "execution_count": 9,
   "metadata": {},
   "outputs": [],
   "source": [
    "#Origin weather\n",
    "dataframe1 = pd.merge(fdatf, wdatf1, on=['FlightDate', 'Origin', 'CRSDepTime'])\n",
    "dataframe1.rename(columns = {'FlightDate':'FlightDate', 'Quarter':'Quarter', 'Year': 'Year','Month':'Month','DayofMonth':'DayofMonth','Origin':'Origin','OriginAirportID':'OriginAirportID','CRSDepTime':'CRSDepTime','DepDelayMinutes':'DepDelayMinutes','Dest':'Dest','DestAirportID':'DestAirportID', 'CRSArrTime':'CRSArrTime', 'ArrDelayMinutes':'ArrDelayMinutes', 'windspeedKmph': 'DepwindspeedKmph', 'winddirDegree': 'DepwinddirDegree', 'precipMM': 'DepprecipMM','visibility': 'Depvisibility', 'pressure': 'Deppressure','cloudcover': 'Depcloudcover','DewPointF': 'DepDewPointF','WindGustKmph': 'DepWindGustKmph','humidity': 'Dephumidity'})\n",
    "finaldatf = pd.merge(dataframe1, wdatf2, on=['FlightDate', 'Dest', 'CRSArrTime'] )"
   ]
  },
  {
   "cell_type": "code",
   "execution_count": 10,
   "metadata": {},
   "outputs": [
    {
     "name": "stdout",
     "output_type": "stream",
     "text": [
      "1877281\n"
     ]
    }
   ],
   "source": [
    "print(len(finaldatf.index))\n",
    "finaldatf.dropna(inplace = True)"
   ]
  },
  {
   "cell_type": "markdown",
   "metadata": {},
   "source": [
    "### Generating Training and Test Datasets"
   ]
  },
  {
   "cell_type": "code",
   "execution_count": 11,
   "metadata": {},
   "outputs": [],
   "source": [
    "finaldatf = skmu.shuffle(finaldatf).reset_index(drop=True)"
   ]
  },
  {
   "cell_type": "code",
   "execution_count": 12,
   "metadata": {},
   "outputs": [],
   "source": [
    "finaldatf = finaldatf[['FlightDate', 'Quarter' ,'Year' ,'Month' , 'DayofMonth' ,'OriginAirportID','CRSDepTime', 'DepDelayMinutes', 'DestAirportID','CRSArrTime', 'ArrDelayMinutes', 'ArrDel15', 'windspeedKmph_x','winddirDegree_x','precipMM_x','visibility_x','pressure_x','cloudcover_x','DewPointF_x','WindGustKmph_x','humidity_x','windspeedKmph_y','winddirDegree_y','precipMM_y','visibility_y','pressure_y','cloudcover_y','DewPointF_y','WindGustKmph_y','humidity_y']]\n",
    "trainingdatf = finaldatf.iloc[0:1800000]\n",
    "testdatf = finaldatf.iloc[1800000:]"
   ]
  },
  {
   "cell_type": "code",
   "execution_count": 13,
   "metadata": {},
   "outputs": [],
   "source": [
    "trainingdatf.reset_index(drop = True)\n",
    "testdatf.reset_index(drop = True)\n",
    "trainingdatf.to_csv(\"Data/TrainingData.csv\", index = False, encoding = \"utf-8\")\n",
    "testdatf.to_csv(\"Data/TestData.csv\", index = False, encoding = \"utf-8\")"
   ]
  }
 ],
 "metadata": {
  "kernelspec": {
   "display_name": "Python 3",
   "language": "python",
   "name": "python3"
  },
  "language_info": {
   "codemirror_mode": {
    "name": "ipython",
    "version": 3
   },
   "file_extension": ".py",
   "mimetype": "text/x-python",
   "name": "python",
   "nbconvert_exporter": "python",
   "pygments_lexer": "ipython3",
   "version": "3.7.6"
  }
 },
 "nbformat": 4,
 "nbformat_minor": 4
}

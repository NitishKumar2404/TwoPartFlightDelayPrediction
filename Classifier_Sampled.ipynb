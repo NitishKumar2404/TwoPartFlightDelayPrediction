{
 "cells": [
  {
   "cell_type": "markdown",
   "metadata": {},
   "source": [
    "# Classifier & Regressor\n",
    "\n",
    "\n",
    "\n",
    "## Module 2\n",
    "\n",
    "### Importing Modules"
   ]
  },
  {
   "cell_type": "code",
   "execution_count": 1,
   "metadata": {},
   "outputs": [],
   "source": [
    "import pandas as pd\n",
    "import numpy as np\n",
    "import sklearn.metrics as skmu\n",
    "from math import sqrt\n",
    "from xgboost import XGBClassifier\n",
    "from sklearn.linear_model import LogisticRegression\n",
    "from sklearn.ensemble import ExtraTreesClassifier\n",
    "from sklearn.ensemble import AdaBoostClassifier\n",
    "import matplotlib.pyplot as plt\n",
    "from imblearn.over_sampling import RandomOverSampler\n",
    "from imblearn.under_sampling import RandomUnderSampler\n",
    "import matplotlib as mpl\n",
    "import matplotlib.pyplot as plt"
   ]
  },
  {
   "cell_type": "markdown",
   "metadata": {},
   "source": [
    "### Dataframes "
   ]
  },
  {
   "cell_type": "code",
   "execution_count": 3,
   "metadata": {},
   "outputs": [],
   "source": [
    "train = pd.read_csv(\"Data/TrainingData.csv\", encoding = \"utf-8\")\n",
    "test = pd.read_csv(\"Data/TestData.csv\", encoding = \"utf-8\")\n",
    "train_X1 = train[[ 'Quarter' ,'Year' ,'Month' , 'DayofMonth','OriginAirportID','CRSDepTime', 'DestAirportID', 'DepDelayMinutes', 'CRSArrTime', 'windspeedKmph_x','winddirDegree_x','precipMM_x','visibility_x','pressure_x','cloudcover_x','DewPointF_x','WindGustKmph_x','humidity_x','windspeedKmph_y','winddirDegree_y','precipMM_y','visibility_y','pressure_y','cloudcover_y','DewPointF_y','WindGustKmph_y','humidity_y']].to_numpy()\n",
    "test_X = test[[ 'Quarter' ,'Year' ,'Month' , 'DayofMonth','OriginAirportID','CRSDepTime', 'DestAirportID', 'DepDelayMinutes', 'CRSArrTime', 'windspeedKmph_x','winddirDegree_x','precipMM_x','visibility_x','pressure_x','cloudcover_x','DewPointF_x','WindGustKmph_x','humidity_x','windspeedKmph_y','winddirDegree_y','precipMM_y','visibility_y','pressure_y','cloudcover_y','DewPointF_y','WindGustKmph_y','humidity_y']].to_numpy()"
   ]
  },
  {
   "cell_type": "code",
   "execution_count": 4,
   "metadata": {},
   "outputs": [],
   "source": [
    "cltrain_Y1 = train[['ArrDel15']].values.ravel()\n",
    "clactual_Y = test[['ArrDel15']].values.ravel()"
   ]
  },
  {
   "cell_type": "markdown",
   "metadata": {},
   "source": [
    "## Sampling"
   ]
  },
  {
   "cell_type": "markdown",
   "metadata": {},
   "source": [
    "### Data Imbalance"
   ]
  },
  {
   "cell_type": "code",
   "execution_count": 5,
   "metadata": {},
   "outputs": [
    {
     "data": {
      "text/plain": [
       "<matplotlib.legend.Legend at 0x1aaad1fde08>"
      ]
     },
     "execution_count": 5,
     "metadata": {},
     "output_type": "execute_result"
    },
    {
     "data": {
      "image/png": "[encoded data removed]",
      "text/plain": [
       "<Figure size 432x288 with 1 Axes>"
      ]
     },
     "metadata": {},
     "output_type": "display_data"
    }
   ],
   "source": [
    "y = train[['ArrDel15']]\n",
    "y0 = [len(y[(y.ArrDel15 == 0)].values.tolist()), len(y[(y.ArrDel15 == 1)].values.tolist())]\n",
    "y1 = ['Class - 0', 'Class - 1']\n",
    "fig, ax = plt.subplots()\n",
    "ax.pie(y0, autopct='%1.0f%%', shadow=False, startangle=0, pctdistance=1.2,labeldistance=1.4)\n",
    "plt.title('Data Imbalance')\n",
    "plt.legend(y1)"
   ]
  },
  {
   "cell_type": "markdown",
   "metadata": {},
   "source": [
    "### OverSampling"
   ]
  },
  {
   "cell_type": "code",
   "execution_count": 6,
   "metadata": {},
   "outputs": [],
   "source": [
    "os = RandomOverSampler(random_state=0)\n",
    "train_X, cltrain_Y = os.fit_sample(train_X1, cltrain_Y1)"
   ]
  },
  {
   "cell_type": "code",
   "execution_count": 7,
   "metadata": {},
   "outputs": [
    {
     "data": {
      "text/plain": [
       "<matplotlib.legend.Legend at 0x1aaad80fe48>"
      ]
     },
     "execution_count": 7,
     "metadata": {},
     "output_type": "execute_result"
    },
    {
     "data": {
      "image/png": "[encoded data removed]",
      "text/plain": [
       "<Figure size 432x288 with 1 Axes>"
      ]
     },
     "metadata": {},
     "output_type": "display_data"
    }
   ],
   "source": [
    "y0 = [len([i for i in cltrain_Y if i == 0]), len([i for i in cltrain_Y if i == 1])]\n",
    "y1 = ['Class - 0', 'Class - 1']\n",
    "fig, ax = plt.subplots()\n",
    "ax.pie(y0, autopct='%1.0f%%', shadow=False, startangle=0, pctdistance=1.2,labeldistance=1.4)\n",
    "plt.title('Sampling')\n",
    "plt.legend(y1)"
   ]
  },
  {
   "cell_type": "markdown",
   "metadata": {},
   "source": [
    "### Classifier"
   ]
  },
  {
   "cell_type": "code",
   "execution_count": 8,
   "metadata": {},
   "outputs": [],
   "source": [
    "classifierxgb = XGBClassifier(n_estimators=200, tree_method='gpu_hist', predictor='gpu_predictor')\n",
    "classifierxgb.fit(train_X, cltrain_Y)\n",
    "clpred_Yxgb = classifierxgb.predict(test_X)"
   ]
  },
  {
   "cell_type": "code",
   "execution_count": 9,
   "metadata": {},
   "outputs": [
    {
     "name": "stdout",
     "output_type": "stream",
     "text": [
      "              precision    recall  f1-score   support\n",
      "\n",
      "         0.0       0.95      0.92      0.93     40606\n",
      "         1.0       0.73      0.81      0.77     10815\n",
      "\n",
      "    accuracy                           0.90     51421\n",
      "   macro avg       0.84      0.86      0.85     51421\n",
      "weighted avg       0.90      0.90      0.90     51421\n",
      "\n"
     ]
    }
   ],
   "source": [
    "print(skmu.classification_report(clactual_Y, clpred_Yxgb))"
   ]
  },
  {
   "cell_type": "code",
   "execution_count": 10,
   "metadata": {},
   "outputs": [
    {
     "data": {
      "image/png": "[encoded data removed]",
      "text/plain": [
       "<Figure size 432x288 with 1 Axes>"
      ]
     },
     "metadata": {
      "needs_background": "light"
     },
     "output_type": "display_data"
    }
   ],
   "source": [
    "fpr, tpr, _ = skmu.roc_curve(clactual_Y, clpred_Yxgb)\n",
    "auc = skmu.roc_auc_score(clactual_Y, clpred_Yxgb)\n",
    "plt.plot(fpr,tpr,label=\"data 1, auc=\"+str(auc))\n",
    "plt.legend(loc=4)\n",
    "plt.show()"
   ]
  },
  {
   "cell_type": "code",
   "execution_count": 11,
   "metadata": {},
   "outputs": [],
   "source": [
    "classifierlog = LogisticRegression(random_state = 0, solver='lbfgs', max_iter=3000)\n",
    "classifierlog.fit(train_X, cltrain_Y)\n",
    "clpred_Ylog = classifierlog.predict(test_X)"
   ]
  },
  {
   "cell_type": "code",
   "execution_count": 12,
   "metadata": {},
   "outputs": [
    {
     "name": "stdout",
     "output_type": "stream",
     "text": [
      "              precision    recall  f1-score   support\n",
      "\n",
      "         0.0       0.94      0.93      0.93     40606\n",
      "         1.0       0.74      0.78      0.76     10815\n",
      "\n",
      "    accuracy                           0.90     51421\n",
      "   macro avg       0.84      0.85      0.85     51421\n",
      "weighted avg       0.90      0.90      0.90     51421\n",
      "\n"
     ]
    }
   ],
   "source": [
    "print(skmu.classification_report(clactual_Y, clpred_Ylog))"
   ]
  },
  {
   "cell_type": "code",
   "execution_count": 13,
   "metadata": {},
   "outputs": [
    {
     "data": {
      "image/png": "[encoded data removed]",
      "text/plain": [
       "<Figure size 432x288 with 1 Axes>"
      ]
     },
     "metadata": {
      "needs_background": "light"
     },
     "output_type": "display_data"
    }
   ],
   "source": [
    "fpr, tpr, _ = skmu.roc_curve(clactual_Y, clpred_Ylog)\n",
    "auc = skmu.roc_auc_score(clactual_Y, clpred_Ylog)\n",
    "plt.plot(fpr,tpr,label=\"data 1, auc=\"+str(auc))\n",
    "plt.legend(loc=4)\n",
    "plt.show()"
   ]
  },
  {
   "cell_type": "code",
   "execution_count": 14,
   "metadata": {},
   "outputs": [],
   "source": [
    "classifiertrees = ExtraTreesClassifier(n_estimators = 50, random_state = 0)\n",
    "classifiertrees.fit(train_X, cltrain_Y)\n",
    "clpred_Ytree = classifiertrees.predict(test_X)"
   ]
  },
  {
   "cell_type": "code",
   "execution_count": 15,
   "metadata": {},
   "outputs": [
    {
     "name": "stdout",
     "output_type": "stream",
     "text": [
      "              precision    recall  f1-score   support\n",
      "\n",
      "         0.0       0.91      0.97      0.94     40606\n",
      "         1.0       0.86      0.65      0.74     10815\n",
      "\n",
      "    accuracy                           0.90     51421\n",
      "   macro avg       0.88      0.81      0.84     51421\n",
      "weighted avg       0.90      0.90      0.90     51421\n",
      "\n"
     ]
    }
   ],
   "source": [
    "print(skmu.classification_report(clactual_Y, clpred_Ytree))"
   ]
  },
  {
   "cell_type": "code",
   "execution_count": 16,
   "metadata": {},
   "outputs": [
    {
     "data": {
      "image/png": "[encoded data removed]",
      "text/plain": [
       "<Figure size 432x288 with 1 Axes>"
      ]
     },
     "metadata": {
      "needs_background": "light"
     },
     "output_type": "display_data"
    }
   ],
   "source": [
    "fpr, tpr, _ = skmu.roc_curve(clactual_Y, clpred_Ytree)\n",
    "auc = skmu.roc_auc_score(clactual_Y, clpred_Ytree)\n",
    "plt.plot(fpr,tpr,label=\"data 1, auc=\"+str(auc))\n",
    "plt.legend(loc=4)\n",
    "plt.show()"
   ]
  },
  {
   "cell_type": "code",
   "execution_count": 17,
   "metadata": {},
   "outputs": [],
   "source": [
    "classifierada = AdaBoostClassifier(n_estimators=100)\n",
    "classifierada.fit(train_X, cltrain_Y)\n",
    "clpred_Yada = classifierada.predict(test_X)"
   ]
  },
  {
   "cell_type": "code",
   "execution_count": 18,
   "metadata": {},
   "outputs": [
    {
     "name": "stdout",
     "output_type": "stream",
     "text": [
      "              precision    recall  f1-score   support\n",
      "\n",
      "         0.0       0.94      0.92      0.93     40606\n",
      "         1.0       0.73      0.79      0.76     10815\n",
      "\n",
      "    accuracy                           0.89     51421\n",
      "   macro avg       0.84      0.85      0.84     51421\n",
      "weighted avg       0.90      0.89      0.90     51421\n",
      "\n"
     ]
    }
   ],
   "source": [
    "print(skmu.classification_report(clactual_Y, clpred_Yada))"
   ]
  },
  {
   "cell_type": "code",
   "execution_count": 19,
   "metadata": {},
   "outputs": [
    {
     "data": {
      "image/png": "[encoded data removed]",
      "text/plain": [
       "<Figure size 432x288 with 1 Axes>"
      ]
     },
     "metadata": {
      "needs_background": "light"
     },
     "output_type": "display_data"
    }
   ],
   "source": [
    "fpr, tpr, _ = skmu.roc_curve(clactual_Y, clpred_Yada)\n",
    "auc = skmu.roc_auc_score(clactual_Y, clpred_Yada)\n",
    "plt.plot(fpr,tpr,label=\"data 1, auc=\"+str(auc))\n",
    "plt.legend(loc=4)\n",
    "plt.show()"
   ]
  },
  {
   "cell_type": "markdown",
   "metadata": {},
   "source": [
    "### UnderSampling"
   ]
  },
  {
   "cell_type": "code",
   "execution_count": 20,
   "metadata": {},
   "outputs": [],
   "source": [
    "rus = RandomUnderSampler(random_state=0)\n",
    "train_X, cltrain_Y = rus.fit_resample(train_X1, cltrain_Y1)"
   ]
  },
  {
   "cell_type": "code",
   "execution_count": 21,
   "metadata": {},
   "outputs": [
    {
     "data": {
      "text/plain": [
       "<matplotlib.legend.Legend at 0x1aad760ad88>"
      ]
     },
     "execution_count": 21,
     "metadata": {},
     "output_type": "execute_result"
    },
    {
     "data": {
      "image/png": "[encoded data removed]",
      "text/plain": [
       "<Figure size 432x288 with 1 Axes>"
      ]
     },
     "metadata": {},
     "output_type": "display_data"
    }
   ],
   "source": [
    "y0 = [len([i for i in cltrain_Y if i == 0]), len([i for i in cltrain_Y if i == 1])]\n",
    "y1 = ['Class - 0', 'Class - 1']\n",
    "fig, ax = plt.subplots()\n",
    "ax.pie(y0, autopct='%1.0f%%', shadow=False, startangle=0, pctdistance=1.2,labeldistance=1.4)\n",
    "plt.title('Under Sampling')\n",
    "plt.legend(y1)"
   ]
  },
  {
   "cell_type": "markdown",
   "metadata": {},
   "source": [
    "### Classifier"
   ]
  },
  {
   "cell_type": "code",
   "execution_count": 22,
   "metadata": {},
   "outputs": [],
   "source": [
    "classifierxgb = XGBClassifier(n_estimators=200, tree_method='gpu_hist', predictor='gpu_predictor')\n",
    "classifierxgb.fit(train_X, cltrain_Y)\n",
    "os_Yxgb = classifierxgb.predict(test_X)"
   ]
  },
  {
   "cell_type": "code",
   "execution_count": 23,
   "metadata": {},
   "outputs": [
    {
     "name": "stdout",
     "output_type": "stream",
     "text": [
      "              precision    recall  f1-score   support\n",
      "\n",
      "         0.0       0.95      0.92      0.93     40606\n",
      "         1.0       0.73      0.81      0.77     10815\n",
      "\n",
      "    accuracy                           0.90     51421\n",
      "   macro avg       0.84      0.87      0.85     51421\n",
      "weighted avg       0.90      0.90      0.90     51421\n",
      "\n"
     ]
    }
   ],
   "source": [
    "print(skmu.classification_report(clactual_Y,  os_Yxgb))"
   ]
  },
  {
   "cell_type": "code",
   "execution_count": 24,
   "metadata": {},
   "outputs": [
    {
     "data": {
      "image/png": "[encoded data removed]",
      "text/plain": [
       "<Figure size 432x288 with 1 Axes>"
      ]
     },
     "metadata": {
      "needs_background": "light"
     },
     "output_type": "display_data"
    }
   ],
   "source": [
    "fpr, tpr, _ = skmu.roc_curve(clactual_Y, os_Yxgb)\n",
    "auc = skmu.roc_auc_score(clactual_Y, os_Yxgb)\n",
    "plt.plot(fpr,tpr,label=\"data 1, auc=\"+str(auc))\n",
    "plt.legend(loc=4)\n",
    "plt.show()"
   ]
  },
  {
   "cell_type": "code",
   "execution_count": 25,
   "metadata": {},
   "outputs": [],
   "source": [
    "classifierlog = LogisticRegression(random_state = 0, solver='lbfgs', max_iter=4000)\n",
    "classifierlog.fit(train_X, cltrain_Y)\n",
    "usYlog = classifierlog.predict(test_X)"
   ]
  },
  {
   "cell_type": "code",
   "execution_count": 26,
   "metadata": {},
   "outputs": [
    {
     "name": "stdout",
     "output_type": "stream",
     "text": [
      "              precision    recall  f1-score   support\n",
      "\n",
      "         0.0       0.94      0.93      0.93     40606\n",
      "         1.0       0.74      0.78      0.76     10815\n",
      "\n",
      "    accuracy                           0.90     51421\n",
      "   macro avg       0.84      0.85      0.85     51421\n",
      "weighted avg       0.90      0.90      0.90     51421\n",
      "\n"
     ]
    }
   ],
   "source": [
    "print(skmu.classification_report(clactual_Y, usYlog))"
   ]
  },
  {
   "cell_type": "code",
   "execution_count": 27,
   "metadata": {},
   "outputs": [
    {
     "data": {
      "image/png": "[encoded data removed]",
      "text/plain": [
       "<Figure size 432x288 with 1 Axes>"
      ]
     },
     "metadata": {
      "needs_background": "light"
     },
     "output_type": "display_data"
    }
   ],
   "source": [
    "fpr, tpr, _ = skmu.roc_curve(clactual_Y, usYlog)\n",
    "auc = skmu.roc_auc_score(clactual_Y, usYlog)\n",
    "plt.plot(fpr,tpr,label=\"data 1, auc=\"+str(auc))\n",
    "plt.legend(loc=4)\n",
    "plt.show()"
   ]
  },
  {
   "cell_type": "code",
   "execution_count": 28,
   "metadata": {},
   "outputs": [],
   "source": [
    "classifiertrees = ExtraTreesClassifier(n_estimators = 50, random_state = 0)\n",
    "classifiertrees.fit(train_X, cltrain_Y)\n",
    "usYtree = classifiertrees.predict(test_X)"
   ]
  },
  {
   "cell_type": "code",
   "execution_count": 29,
   "metadata": {},
   "outputs": [
    {
     "name": "stdout",
     "output_type": "stream",
     "text": [
      "              precision    recall  f1-score   support\n",
      "\n",
      "         0.0       0.95      0.88      0.92     40606\n",
      "         1.0       0.65      0.83      0.73     10815\n",
      "\n",
      "    accuracy                           0.87     51421\n",
      "   macro avg       0.80      0.86      0.82     51421\n",
      "weighted avg       0.89      0.87      0.88     51421\n",
      "\n"
     ]
    }
   ],
   "source": [
    "print(skmu.classification_report(clactual_Y, usYtree))"
   ]
  },
  {
   "cell_type": "code",
   "execution_count": 30,
   "metadata": {},
   "outputs": [
    {
     "data": {
      "image/png": "[encoded data removed]",
      "text/plain": [
       "<Figure size 432x288 with 1 Axes>"
      ]
     },
     "metadata": {
      "needs_background": "light"
     },
     "output_type": "display_data"
    }
   ],
   "source": [
    "fpr, tpr, _ = skmu.roc_curve(clactual_Y, usYtree)\n",
    "auc = skmu.roc_auc_score(clactual_Y, usYtree)\n",
    "plt.plot(fpr,tpr,label=\"data 1, auc=\"+str(auc))\n",
    "plt.legend(loc=4)\n",
    "plt.show()"
   ]
  },
  {
   "cell_type": "code",
   "execution_count": 31,
   "metadata": {},
   "outputs": [],
   "source": [
    "classifierada = AdaBoostClassifier(n_estimators=100)\n",
    "classifierada.fit(train_X, cltrain_Y)\n",
    "usYada = classifierada.predict(test_X)"
   ]
  },
  {
   "cell_type": "code",
   "execution_count": 32,
   "metadata": {},
   "outputs": [
    {
     "name": "stdout",
     "output_type": "stream",
     "text": [
      "              precision    recall  f1-score   support\n",
      "\n",
      "         0.0       0.94      0.92      0.93     40606\n",
      "         1.0       0.73      0.79      0.76     10815\n",
      "\n",
      "    accuracy                           0.89     51421\n",
      "   macro avg       0.84      0.85      0.84     51421\n",
      "weighted avg       0.90      0.89      0.90     51421\n",
      "\n"
     ]
    }
   ],
   "source": [
    "print(skmu.classification_report(clactual_Y, usYada))"
   ]
  },
  {
   "cell_type": "code",
   "execution_count": 33,
   "metadata": {},
   "outputs": [
    {
     "data": {
      "image/png": "[encoded data removed]",
      "text/plain": [
       "<Figure size 432x288 with 1 Axes>"
      ]
     },
     "metadata": {
      "needs_background": "light"
     },
     "output_type": "display_data"
    }
   ],
   "source": [
    "fpr, tpr, _ = skmu.roc_curve(clactual_Y, usYada)\n",
    "auc = skmu.roc_auc_score(clactual_Y, usYada)\n",
    "plt.plot(fpr,tpr,label=\"data 1, auc=\"+str(auc))\n",
    "plt.legend(loc=4)\n",
    "plt.show()"
   ]
  },
  {
   "cell_type": "markdown",
   "metadata": {},
   "source": [
    "### Classifier Metrics"
   ]
  },
  {
   "cell_type": "code",
   "execution_count": null,
   "metadata": {},
   "outputs": [],
   "source": [
    "\"\"\"\n",
    "ROC-AUC Curve and other metric analysis shows that the Oversampled Extra Trees classifier provides the best prediction of the test \n",
    "dataset provided.\n",
    "Greater the AUC value Greater will be the ability of the model to predict the 0s as 0s and 1s as 1s.\n",
    "The Classification result supports the claim\n",
    "\"\"\""
   ]
  },
  {
   "cell_type": "markdown",
   "metadata": {},
   "source": [
    "### Storing Classified Flights"
   ]
  },
  {
   "cell_type": "code",
   "execution_count": 21,
   "metadata": {},
   "outputs": [],
   "source": [
    "test.loc[:,'ArrDel15'] = clpred_Ytree\n",
    "test = test[(test.ArrDel15 == 1)]\n",
    "test.to_csv(\"Data/ClassifiedFlights.csv\", index = False, encoding = 'utf-8')"
   ]
  }
 ],
 "metadata": {
  "kernelspec": {
   "display_name": "Python 3",
   "language": "python",
   "name": "python3"
  },
  "language_info": {
   "codemirror_mode": {
    "name": "ipython",
    "version": 3
   },
   "file_extension": ".py",
   "mimetype": "text/x-python",
   "name": "python",
   "nbconvert_exporter": "python",
   "pygments_lexer": "ipython3",
   "version": "3.7.6"
  }
 },
 "nbformat": 4,
 "nbformat_minor": 4
}

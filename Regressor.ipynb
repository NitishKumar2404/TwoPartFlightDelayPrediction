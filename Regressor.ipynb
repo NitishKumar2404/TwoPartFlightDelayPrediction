{
 "cells": [
  {
   "cell_type": "markdown",
   "metadata": {},
   "source": [
    "# Regression"
   ]
  },
  {
   "cell_type": "markdown",
   "metadata": {},
   "source": [
    "## Module 3"
   ]
  },
  {
   "cell_type": "markdown",
   "metadata": {},
   "source": [
    "### Importing Modules"
   ]
  },
  {
   "cell_type": "code",
   "execution_count": 11,
   "metadata": {},
   "outputs": [],
   "source": [
    "import pandas as pd\n",
    "import numpy as np\n",
    "import sklearn.metrics as skmu\n",
    "from math import sqrt\n",
    "from xgboost import XGBRegressor\n",
    "from sklearn.linear_model import LinearRegression\n",
    "from sklearn.tree import DecisionTreeRegressor\n",
    "from sklearn.ensemble import AdaBoostRegressor"
   ]
  },
  {
   "cell_type": "markdown",
   "metadata": {},
   "source": [
    "### Dataframes"
   ]
  },
  {
   "cell_type": "code",
   "execution_count": 2,
   "metadata": {},
   "outputs": [],
   "source": [
    "train = pd.read_csv(\"Data/TrainingData.csv\", encoding = \"utf-8\")\n",
    "test = pd.read_csv(\"Data/ClassifiedFlights.csv\", encoding = \"utf-8\")\n",
    "train_X = train[(train.ArrDel15 == 1)]\n",
    "train_X = train[[ 'Quarter' ,'Year' ,'Month' , 'DayofMonth','OriginAirportID','CRSDepTime', 'DestAirportID','CRSArrTime', 'windspeedKmph_x','winddirDegree_x','precipMM_x','visibility_x','pressure_x','cloudcover_x','DewPointF_x','WindGustKmph_x','humidity_x','windspeedKmph_y','winddirDegree_y','precipMM_y','visibility_y','pressure_y','cloudcover_y','DewPointF_y','WindGustKmph_y','humidity_y']].to_numpy()\n",
    "test_X = test[[ 'Quarter' ,'Year' ,'Month' , 'DayofMonth','OriginAirportID','CRSDepTime', 'DestAirportID','CRSArrTime', 'windspeedKmph_x','winddirDegree_x','precipMM_x','visibility_x','pressure_x','cloudcover_x','DewPointF_x','WindGustKmph_x','humidity_x','windspeedKmph_y','winddirDegree_y','precipMM_y','visibility_y','pressure_y','cloudcover_y','DewPointF_y','WindGustKmph_y','humidity_y']].to_numpy()"
   ]
  },
  {
   "cell_type": "code",
   "execution_count": 3,
   "metadata": {},
   "outputs": [],
   "source": [
    "regtrain_Y = train[['ArrDelayMinutes']].values.ravel()\n",
    "regactual_Y = test[['ArrDelayMinutes']].values.ravel()"
   ]
  },
  {
   "cell_type": "markdown",
   "metadata": {},
   "source": [
    "### Regressor"
   ]
  },
  {
   "cell_type": "code",
   "execution_count": 4,
   "metadata": {},
   "outputs": [],
   "source": [
    "regxgb = XGBRegressor(n_estimators=200, tree_method='gpu_hist', predictor='gpu_predictor')\n",
    "regxgb.fit(train_X,regtrain_Y)\n",
    "regpred_Yxgb = regxgb.predict(test_X)"
   ]
  },
  {
   "cell_type": "code",
   "execution_count": 5,
   "metadata": {},
   "outputs": [
    {
     "name": "stdout",
     "output_type": "stream",
     "text": [
      "XGBoost Regressor Metrics: \n",
      " RMSE:  58.50068015400358 \n",
      " MAE:  33.2427022728133 \n",
      " R2:  0.13996723737076577\n"
     ]
    }
   ],
   "source": [
    "rmsexgb = sqrt(skmu.mean_squared_error(regactual_Y,regpred_Yxgb))\n",
    "maexgb = skmu.mean_absolute_error(regactual_Y,regpred_Yxgb)\n",
    "r2xgb = skmu.r2_score(regactual_Y,regpred_Yxgb)\n",
    "print(\"XGBoost Regressor Metrics: \\n RMSE: \", rmsexgb, \"\\n MAE: \", maexgb, \"\\n R2: \",r2xgb)"
   ]
  },
  {
   "cell_type": "code",
   "execution_count": 6,
   "metadata": {},
   "outputs": [],
   "source": [
    "reglin = LinearRegression()\n",
    "reglin.fit(train_X,regtrain_Y)\n",
    "regpred_Ylin = reglin.predict(test_X)"
   ]
  },
  {
   "cell_type": "code",
   "execution_count": 7,
   "metadata": {},
   "outputs": [
    {
     "name": "stdout",
     "output_type": "stream",
     "text": [
      "Linear Regressor Metrics: \n",
      " RMSE:  65.1312069615139 \n",
      " MAE:  35.96434207008745 \n",
      " R2:  -0.06603488684088754\n"
     ]
    }
   ],
   "source": [
    "rmselin = sqrt(skmu.mean_squared_error(regactual_Y, regpred_Ylin))\n",
    "maelin = skmu.mean_absolute_error(regactual_Y,regpred_Ylin)\n",
    "r2lin = skmu.r2_score(regactual_Y,regpred_Ylin)\n",
    "print(\"Linear Regressor Metrics: \\n RMSE: \", rmselin, \"\\n MAE: \", maelin, \"\\n R2: \",r2lin)"
   ]
  },
  {
   "cell_type": "code",
   "execution_count": 13,
   "metadata": {},
   "outputs": [],
   "source": [
    "regtrees = DecisionTreeRegressor(random_state = 0)\n",
    "regtrees.fit(train_X, regtrain_Y)\n",
    "regpred_Ytree = regtrees.predict(test_X)"
   ]
  },
  {
   "cell_type": "code",
   "execution_count": 15,
   "metadata": {},
   "outputs": [
    {
     "name": "stdout",
     "output_type": "stream",
     "text": [
      "Decision Tree Regressor Metrics: \n",
      " RMSE:  87.54579950680088 \n",
      " MAE:  51.949084735754354 \n",
      " R2:  -0.9260332998580207\n"
     ]
    }
   ],
   "source": [
    "rmsetree = sqrt(skmu.mean_squared_error(regactual_Y, regpred_Ytree))\n",
    "maetree = skmu.mean_absolute_error(regactual_Y,regpred_Ytree)\n",
    "r2tree = skmu.r2_score(regactual_Y,regpred_Ytree)\n",
    "print(\"Decision Tree Regressor Metrics: \\n RMSE: \", rmsetree, \"\\n MAE: \", maetree, \"\\n R2: \",r2tree)"
   ]
  },
  {
   "cell_type": "code",
   "execution_count": 8,
   "metadata": {},
   "outputs": [],
   "source": [
    "regada = AdaBoostRegressor(n_estimators = 100)\n",
    "regada.fit(train_X, regtrain_Y)\n",
    "regpred_Yada = regada.predict(test_X)"
   ]
  },
  {
   "cell_type": "code",
   "execution_count": 9,
   "metadata": {},
   "outputs": [
    {
     "name": "stdout",
     "output_type": "stream",
     "text": [
      "AdaBoost Regressor Metrics: \n",
      " RMSE:  67.50664707925375 \n",
      " MAE:  48.452223062398815 \n",
      " R2:  -0.14521292533417673\n"
     ]
    }
   ],
   "source": [
    "rmseada = sqrt(skmu.mean_squared_error(regactual_Y, regpred_Yada))\n",
    "maeada = skmu.mean_absolute_error(regactual_Y,regpred_Yada)\n",
    "r2ada = skmu.r2_score(regactual_Y,regpred_Yada)\n",
    "print(\"AdaBoost Regressor Metrics: \\n RMSE: \", rmseada, \"\\n MAE: \", maeada, \"\\n R2: \",r2ada)"
   ]
  },
  {
   "cell_type": "markdown",
   "metadata": {},
   "source": [
    "### Metrics"
   ]
  },
  {
   "cell_type": "code",
   "execution_count": null,
   "metadata": {},
   "outputs": [],
   "source": [
    "\"\"\"\n",
    "From observing the metrics of the regressors;\n",
    "we can say that XG Boost is the suitable model\n",
    "\"\"\""
   ]
  }
 ],
 "metadata": {
  "kernelspec": {
   "display_name": "Python 3",
   "language": "python",
   "name": "python3"
  },
  "language_info": {
   "codemirror_mode": {
    "name": "ipython",
    "version": 3
   },
   "file_extension": ".py",
   "mimetype": "text/x-python",
   "name": "python",
   "nbconvert_exporter": "python",
   "pygments_lexer": "ipython3",
   "version": "3.7.6"
  }
 },
 "nbformat": 4,
 "nbformat_minor": 4
}

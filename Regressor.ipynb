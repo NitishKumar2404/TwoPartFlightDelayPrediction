{
 "cells": [
  {
   "cell_type": "markdown",
   "metadata": {},
   "source": [
    "# Regression"
   ]
  },
  {
   "cell_type": "markdown",
   "metadata": {},
   "source": [
    "## Module 3"
   ]
  },
  {
   "cell_type": "markdown",
   "metadata": {},
   "source": [
    "### Importing Modules"
   ]
  },
  {
   "cell_type": "code",
   "execution_count": null,
   "metadata": {},
   "outputs": [],
   "source": [
    "import pandas as pd\n",
    "import numpy as np\n",
    "import sklearn.metrics as skmu\n",
    "from math import sqrt\n",
    "from xgboost import XGBRegressor\n",
    "from sklearn.linear_model import LinearRegression\n",
    "from sklearn.ensemble import ExtraTreesRegressor"
   ]
  },
  {
   "cell_type": "markdown",
   "metadata": {},
   "source": [
    "### Dataframes"
   ]
  },
  {
   "cell_type": "code",
   "execution_count": null,
   "metadata": {},
   "outputs": [],
   "source": [
    "train = pd.read_csv(\"Data/TrainingData.csv\", encoding = \"utf-8\")\n",
    "test = pd.read_csv(\"Data/TestData.csv\", encoding = \"utf-8\")\n",
    "train_X = train[(train.ArrDel15 == 1)]\n",
    "train_X = train[[ 'Quarter' ,'Year' ,'Month' , 'DayofMonth','OriginAirportID','CRSDepTime', 'DestAirportID','CRSArrTime', 'windspeedKmph_x','winddirDegree_x','precipMM_x','visibility_x','pressure_x','cloudcover_x','DewPointF_x','WindGustKmph_x','humidity_x','windspeedKmph_y','winddirDegree_y','precipMM_y','visibility_y','pressure_y','cloudcover_y','DewPointF_y','WindGustKmph_y','humidity_y']].to_numpy()"
   ]
  },
  {
   "cell_type": "code",
   "execution_count": null,
   "metadata": {},
   "outputs": [],
   "source": [
    "regtrain_Y = train[['ArrDelayMinutes']].values.ravel()\n",
    "regactual_Y = test[['ArrDelayMinutes']].values.ravel()"
   ]
  },
  {
   "cell_type": "markdown",
   "metadata": {},
   "source": [
    "### Regressor"
   ]
  },
  {
   "cell_type": "code",
   "execution_count": null,
   "metadata": {},
   "outputs": [],
   "source": [
    "regxgb = XGBRegressor(n_estimators=200, tree_method='gpu_hist', predictor='gpu_predictor')\n",
    "regxgb.fit(train_X,regtrain_Y)\n",
    "regpred_Yxgb = regxgb.predict(test_X)\n",
    "rmsexgb = sqrt(skmu.mean_squared_error(regactual_Y,regpred_Yxgb))"
   ]
  },
  {
   "cell_type": "code",
   "execution_count": null,
   "metadata": {},
   "outputs": [],
   "source": [
    "reglin = LinearRegression()\n",
    "reglin.fit(train_X,regtrain_Y)\n",
    "regpred_Ylin = reglin.predict(test_X)\n",
    "rmselin = sqrt(skmu.mean_squared_error(regactual_Y, regpred_Ylin))"
   ]
  },
  {
   "cell_type": "code",
   "execution_count": null,
   "metadata": {},
   "outputs": [],
   "source": [
    "regtrees = ExtraTreesRegressor(n_estimators = 50, random_state = 0)\n",
    "regtrees.fit(train_X, regtrain_Y)\n",
    "regpred_Ytree = regtrees.predict(test_X)\n",
    "rmsetree = sqrt(skmu.mean_squared_error(regactual_Y, regpred_Ytree))"
   ]
  },
  {
   "cell_type": "markdown",
   "metadata": {},
   "source": [
    "### Metrics"
   ]
  },
  {
   "cell_type": "code",
   "execution_count": null,
   "metadata": {},
   "outputs": [],
   "source": [
    "a = min(rmsetree, rmselin, rmsexgb)\n",
    "if a == rmsetree:\n",
    "    print(\"Suitable model is Extra Trees Regression \\n Rmse:\", a)\n",
    "elif a == rmselin:\n",
    "    print(\"Suitable model is Linear Regression \\n Rmse:\", a)\n",
    "else:\n",
    "    print(\"Suitable model is XGBoost Regression \\n Rmse\", a)"
   ]
  }
 ],
 "metadata": {
  "kernelspec": {
   "display_name": "Python 3",
   "language": "python",
   "name": "python3"
  },
  "language_info": {
   "codemirror_mode": {
    "name": "ipython",
    "version": 3
   },
   "file_extension": ".py",
   "mimetype": "text/x-python",
   "name": "python",
   "nbconvert_exporter": "python",
   "pygments_lexer": "ipython3",
   "version": "3.7.6"
  }
 },
 "nbformat": 4,
 "nbformat_minor": 4
}

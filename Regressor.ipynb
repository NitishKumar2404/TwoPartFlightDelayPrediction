{
 "cells": [
  {
   "cell_type": "markdown",
   "metadata": {},
   "source": [
    "# Regression"
   ]
  },
  {
   "cell_type": "markdown",
   "metadata": {},
   "source": [
    "## Module 3"
   ]
  },
  {
   "cell_type": "markdown",
   "metadata": {},
   "source": [
    "### Importing Modules"
   ]
  },
  {
   "cell_type": "code",
   "execution_count": 1,
   "metadata": {},
   "outputs": [],
   "source": [
    "import pandas as pd\n",
    "import numpy as np\n",
    "import sklearn.metrics as skmu\n",
    "from math import sqrt\n",
    "from xgboost import XGBRegressor\n",
    "from sklearn.linear_model import LinearRegression\n",
    "from sklearn.tree import DecisionTreeRegressor\n",
    "from sklearn.ensemble import AdaBoostRegressor"
   ]
  },
  {
   "cell_type": "markdown",
   "metadata": {},
   "source": [
    "### Dataframes"
   ]
  },
  {
   "cell_type": "code",
   "execution_count": 8,
   "metadata": {},
   "outputs": [],
   "source": [
    "train = pd.read_csv(\"Data/TrainingData.csv\", encoding = \"utf-8\")\n",
    "test = pd.read_csv(\"Data/ClassifiedFlights.csv\", encoding = \"utf-8\")\n",
    "train_X = train[(train.ArrDel15 == 1)]\n",
    "train_X = train[[ 'Quarter' ,'Year' ,'Month' , 'DayofMonth','OriginAirportID','CRSDepTime', 'DestAirportID','CRSArrTime', 'windspeedKmph_x','winddirDegree_x','precipMM_x','visibility_x','pressure_x','cloudcover_x','DewPointF_x','WindGustKmph_x','humidity_x','windspeedKmph_y','winddirDegree_y','precipMM_y','visibility_y','pressure_y','cloudcover_y','DewPointF_y','WindGustKmph_y','humidity_y']].to_numpy()\n",
    "test_X = test[[ 'Quarter' ,'Year' ,'Month' , 'DayofMonth','OriginAirportID','CRSDepTime', 'DestAirportID','CRSArrTime', 'windspeedKmph_x','winddirDegree_x','precipMM_x','visibility_x','pressure_x','cloudcover_x','DewPointF_x','WindGustKmph_x','humidity_x','windspeedKmph_y','winddirDegree_y','precipMM_y','visibility_y','pressure_y','cloudcover_y','DewPointF_y','WindGustKmph_y','humidity_y']].to_numpy()"
   ]
  },
  {
   "cell_type": "code",
   "execution_count": 12,
   "metadata": {},
   "outputs": [],
   "source": [
    "regtrain_Y = train[['ArrDelayMinutes']].values.ravel()\n",
    "regactual_Y = test[['ArrDelayMinutes']].values.ravel()"
   ]
  },
  {
   "cell_type": "markdown",
   "metadata": {},
   "source": [
    "### Pipeline Regression"
   ]
  },
  {
   "cell_type": "code",
   "execution_count": 13,
   "metadata": {},
   "outputs": [],
   "source": [
    "regxgb = XGBRegressor(n_estimators=200, tree_method='gpu_hist', predictor='gpu_predictor')\n",
    "regxgb.fit(train_X,regtrain_Y)\n",
    "regpred_Yxgb = regxgb.predict(test_X)"
   ]
  },
  {
   "cell_type": "code",
   "execution_count": 14,
   "metadata": {},
   "outputs": [
    {
     "name": "stdout",
     "output_type": "stream",
     "text": [
      "XGBoost Regressor Metrics: \n",
      " RMSE:  50.064601311762154 \n",
      " MAE:  27.883453770736725 \n",
      " R2:  0.11512603354044348\n"
     ]
    }
   ],
   "source": [
    "rmsexgb = sqrt(skmu.mean_squared_error(regactual_Y,regpred_Yxgb))\n",
    "maexgb = skmu.mean_absolute_error(regactual_Y,regpred_Yxgb)\n",
    "r2xgb = skmu.r2_score(regactual_Y,regpred_Yxgb)\n",
    "print(\"XGBoost Regressor Metrics: \\n RMSE: \", rmsexgb, \"\\n MAE: \", maexgb, \"\\n R2: \",r2xgb)"
   ]
  },
  {
   "cell_type": "code",
   "execution_count": 15,
   "metadata": {},
   "outputs": [],
   "source": [
    "reglin = LinearRegression()\n",
    "reglin.fit(train_X,regtrain_Y)\n",
    "regpred_Ylin = reglin.predict(test_X)"
   ]
  },
  {
   "cell_type": "code",
   "execution_count": 16,
   "metadata": {},
   "outputs": [
    {
     "name": "stdout",
     "output_type": "stream",
     "text": [
      "Linear Regressor Metrics: \n",
      " RMSE:  53.255448485870026 \n",
      " MAE:  28.309307059557433 \n",
      " R2:  -0.0012625827376551157\n"
     ]
    }
   ],
   "source": [
    "rmselin = sqrt(skmu.mean_squared_error(regactual_Y, regpred_Ylin))\n",
    "maelin = skmu.mean_absolute_error(regactual_Y,regpred_Ylin)\n",
    "r2lin = skmu.r2_score(regactual_Y,regpred_Ylin)\n",
    "print(\"Linear Regressor Metrics: \\n RMSE: \", rmselin, \"\\n MAE: \", maelin, \"\\n R2: \",r2lin)"
   ]
  },
  {
   "cell_type": "code",
   "execution_count": 17,
   "metadata": {},
   "outputs": [],
   "source": [
    "regtrees = DecisionTreeRegressor(random_state = 0)\n",
    "regtrees.fit(train_X, regtrain_Y)\n",
    "regpred_Ytree = regtrees.predict(test_X)"
   ]
  },
  {
   "cell_type": "code",
   "execution_count": 18,
   "metadata": {},
   "outputs": [
    {
     "name": "stdout",
     "output_type": "stream",
     "text": [
      "Decision Tree Regressor Metrics: \n",
      " RMSE:  67.92314371028698 \n",
      " MAE:  33.407063080069214 \n",
      " R2:  -0.6287538325413042\n"
     ]
    }
   ],
   "source": [
    "rmsetree = sqrt(skmu.mean_squared_error(regactual_Y, regpred_Ytree))\n",
    "maetree = skmu.mean_absolute_error(regactual_Y,regpred_Ytree)\n",
    "r2tree = skmu.r2_score(regactual_Y,regpred_Ytree)\n",
    "print(\"Decision Tree Regressor Metrics: \\n RMSE: \", rmsetree, \"\\n MAE: \", maetree, \"\\n R2: \",r2tree)"
   ]
  },
  {
   "cell_type": "code",
   "execution_count": 19,
   "metadata": {},
   "outputs": [],
   "source": [
    "regada = AdaBoostRegressor(n_estimators = 100)\n",
    "regada.fit(train_X, regtrain_Y)\n",
    "regpred_Yada = regada.predict(test_X)"
   ]
  },
  {
   "cell_type": "code",
   "execution_count": 20,
   "metadata": {},
   "outputs": [
    {
     "name": "stdout",
     "output_type": "stream",
     "text": [
      "AdaBoost Regressor Metrics: \n",
      " RMSE:  65.70408876021453 \n",
      " MAE:  49.4698873356346 \n",
      " R2:  -0.524069201996104\n"
     ]
    }
   ],
   "source": [
    "rmseada = sqrt(skmu.mean_squared_error(regactual_Y, regpred_Yada))\n",
    "maeada = skmu.mean_absolute_error(regactual_Y,regpred_Yada)\n",
    "r2ada = skmu.r2_score(regactual_Y,regpred_Yada)\n",
    "print(\"AdaBoost Regressor Metrics: \\n RMSE: \", rmseada, \"\\n MAE: \", maeada, \"\\n R2: \",r2ada)"
   ]
  },
  {
   "cell_type": "markdown",
   "metadata": {},
   "source": [
    "### Testing Original Test Dataset"
   ]
  },
  {
   "cell_type": "code",
   "execution_count": 12,
   "metadata": {},
   "outputs": [],
   "source": [
    "testdata = pd.read_csv(\"Data/TestData.csv\", encoding = 'utf-8')\n",
    "testdata = testdata[(testdata.ArrDel15 == 1)]\n",
    "test_X = testdata[[ 'Quarter' ,'Year' ,'Month' , 'DayofMonth','OriginAirportID','CRSDepTime', 'DestAirportID','CRSArrTime', 'windspeedKmph_x','winddirDegree_x','precipMM_x','visibility_x','pressure_x','cloudcover_x','DewPointF_x','WindGustKmph_x','humidity_x','windspeedKmph_y','winddirDegree_y','precipMM_y','visibility_y','pressure_y','cloudcover_y','DewPointF_y','WindGustKmph_y','humidity_y']].to_numpy()\n",
    "regactual_Y = testdata[['ArrDelayMinutes']].values.ravel()"
   ]
  },
  {
   "cell_type": "code",
   "execution_count": 13,
   "metadata": {},
   "outputs": [
    {
     "name": "stdout",
     "output_type": "stream",
     "text": [
      "XGBoost Regressor Metrics: \n",
      " RMSE:  80.84700105996066 \n",
      " MAE:  44.152766695380265 \n",
      " R2:  -0.25008464458004465\n"
     ]
    }
   ],
   "source": [
    "regpred_Yxgb = regxgb.predict(test_X)\n",
    "rmsexgb = sqrt(skmu.mean_squared_error(regactual_Y,regpred_Yxgb))\n",
    "maexgb = skmu.mean_absolute_error(regactual_Y,regpred_Yxgb)\n",
    "r2xgb = skmu.r2_score(regactual_Y,regpred_Yxgb)\n",
    "print(\"XGBoost Regressor Metrics: \\n RMSE: \", rmsexgb, \"\\n MAE: \", maexgb, \"\\n R2: \",r2xgb)"
   ]
  },
  {
   "cell_type": "code",
   "execution_count": 14,
   "metadata": {},
   "outputs": [
    {
     "name": "stdout",
     "output_type": "stream",
     "text": [
      "Linear Regressor Metrics: \n",
      " RMSE:  85.12767050857066 \n",
      " MAE:  46.88885292763013 \n",
      " R2:  -0.3859676368779592\n"
     ]
    }
   ],
   "source": [
    "regpred_Ylin = reglin.predict(test_X)\n",
    "rmselin = sqrt(skmu.mean_squared_error(regactual_Y, regpred_Ylin))\n",
    "maelin = skmu.mean_absolute_error(regactual_Y,regpred_Ylin)\n",
    "r2lin = skmu.r2_score(regactual_Y,regpred_Ylin)\n",
    "print(\"Linear Regressor Metrics: \\n RMSE: \", rmselin, \"\\n MAE: \", maelin, \"\\n R2: \",r2lin)"
   ]
  },
  {
   "cell_type": "code",
   "execution_count": 15,
   "metadata": {},
   "outputs": [
    {
     "name": "stdout",
     "output_type": "stream",
     "text": [
      "Decision Tree Regressor Metrics: \n",
      " RMSE:  92.14008070354222 \n",
      " MAE:  54.745191863153025 \n",
      " R2:  -0.6237111296258551\n"
     ]
    }
   ],
   "source": [
    "regpred_Ytree = regtrees.predict(test_X)\n",
    "rmsetree = sqrt(skmu.mean_squared_error(regactual_Y, regpred_Ytree))\n",
    "maetree = skmu.mean_absolute_error(regactual_Y,regpred_Ytree)\n",
    "r2tree = skmu.r2_score(regactual_Y,regpred_Ytree)\n",
    "print(\"Decision Tree Regressor Metrics: \\n RMSE: \", rmsetree, \"\\n MAE: \", maetree, \"\\n R2: \",r2tree)"
   ]
  },
  {
   "cell_type": "code",
   "execution_count": 16,
   "metadata": {},
   "outputs": [
    {
     "name": "stdout",
     "output_type": "stream",
     "text": [
      "AdaBoost Regressor Metrics: \n",
      " RMSE:  97.03869301762228 \n",
      " MAE:  79.71858537705481 \n",
      " R2:  -0.8009492219023089\n"
     ]
    }
   ],
   "source": [
    "regpred_Yada = regada.predict(test_X)\n",
    "rmseada = sqrt(skmu.mean_squared_error(regactual_Y, regpred_Yada))\n",
    "maeada = skmu.mean_absolute_error(regactual_Y,regpred_Yada)\n",
    "r2ada = skmu.r2_score(regactual_Y,regpred_Yada)\n",
    "print(\"AdaBoost Regressor Metrics: \\n RMSE: \", rmseada, \"\\n MAE: \", maeada, \"\\n R2: \",r2ada)"
   ]
  },
  {
   "cell_type": "markdown",
   "metadata": {},
   "source": [
    "### Metrics"
   ]
  },
  {
   "cell_type": "code",
   "execution_count": null,
   "metadata": {},
   "outputs": [],
   "source": [
    "\"\"\"\n",
    "From observing the metrics of the regressors and testing the test \n",
    "data model;\n",
    "we can say that XG Boost is the suitable regressor model for the dataset\n",
    "\"\"\""
   ]
  }
 ],
 "metadata": {
  "kernelspec": {
   "display_name": "Python 3",
   "language": "python",
   "name": "python3"
  },
  "language_info": {
   "codemirror_mode": {
    "name": "ipython",
    "version": 3
   },
   "file_extension": ".py",
   "mimetype": "text/x-python",
   "name": "python",
   "nbconvert_exporter": "python",
   "pygments_lexer": "ipython3",
   "version": "3.7.6"
  }
 },
 "nbformat": 4,
 "nbformat_minor": 4
}
